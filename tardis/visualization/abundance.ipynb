{
 "cells": [
  {
   "cell_type": "code",
   "execution_count": 1,
   "metadata": {},
   "outputs": [
    {
     "data": {
      "application/vnd.jupyter.widget-view+json": {
       "model_id": "8c5645cf1aed4a5385ee23377f45355c",
       "version_major": 2,
       "version_minor": 0
      },
      "text/plain": [
       "Iterations:          0/? [00:00<?, ?it/s]"
      ]
     },
     "metadata": {},
     "output_type": "display_data"
    },
    {
     "data": {
      "application/vnd.jupyter.widget-view+json": {
       "model_id": "e13d298651de4058b6623b99200bfd6f",
       "version_major": 2,
       "version_minor": 0
      },
      "text/plain": [
       "Packets:             0/? [00:00<?, ?it/s]"
      ]
     },
     "metadata": {},
     "output_type": "display_data"
    }
   ],
   "source": [
    "# Download the atomic data\n",
    "from tardis.io.atom_data.util import download_atom_data\n",
    "download_atom_data('kurucz_cd23_chianti_H_He')"
   ]
  },
  {
   "cell_type": "code",
   "execution_count": 5,
   "metadata": {},
   "outputs": [
    {
     "name": "stdout",
     "output_type": "stream",
     "text": [
      "[\u001b[1mtardis.plasma.standard_plasmas\u001b[0m][\u001b[1;37mINFO\u001b[0m   ]  \n",
      "\t\n",
      "\tReading Atomic Data from kurucz_cd23_chianti_H_He.h5 (\u001b[1mstandard_plasmas.py\u001b[0m:95)\n",
      "[\u001b[1mtardis.io.atom_data.util\u001b[0m][\u001b[1;37mINFO\u001b[0m   ]  \n",
      "\t\n",
      "\tAtom Data kurucz_cd23_chianti_H_He.h5 not found in local path.\n",
      "\tExists in TARDIS Data repo /home/pratyusha132/Downloads/tardis-data/kurucz_cd23_chianti_H_He.h5 (\u001b[1mutil.py\u001b[0m:33)\n",
      "[\u001b[1mtardis.io.atom_data.base\u001b[0m][\u001b[1;37mINFO\u001b[0m   ]  \n",
      "\tReading Atom Data with: UUID = 6f7b09e887a311e7a06b246e96350010 MD5  = 864f1753714343c41f99cb065710cace  (\u001b[1mbase.py\u001b[0m:249)\n",
      "[\u001b[1mtardis.io.atom_data.base\u001b[0m][\u001b[1;37mINFO\u001b[0m   ]  \n",
      "\tNon provided Atomic Data: synpp_refs, photoionization_data, yg_data, two_photon_data (\u001b[1mbase.py\u001b[0m:253)\n",
      "[\u001b[1mpy.warnings         \u001b[0m][\u001b[1;33mWARNING\u001b[0m]  \n",
      "\t/home/pratyusha132/tardis/tardis/plasma/properties/radiative_properties.py:93: RuntimeWarning: invalid value encountered in true_divide\n",
      "  (g_lower * n_upper) / (g_upper * n_lower)\n",
      " (\u001b[1mwarnings.py\u001b[0m:109)\n",
      "[\u001b[1mpy.warnings         \u001b[0m][\u001b[1;33mWARNING\u001b[0m]  \n",
      "\t/home/pratyusha132/tardis/tardis/plasma/properties/radiative_properties.py:93: RuntimeWarning: invalid value encountered in true_divide\n",
      "  (g_lower * n_upper) / (g_upper * n_lower)\n",
      " (\u001b[1mwarnings.py\u001b[0m:109)\n",
      "[\u001b[1mtardis.simulation.base\u001b[0m][\u001b[1;37mINFO\u001b[0m   ]  \n",
      "\t\n",
      "\tStarting iteration 1 of 20 (\u001b[1mbase.py\u001b[0m:385)\n"
     ]
    },
    {
     "data": {
      "application/vnd.jupyter.widget-view+json": {
       "model_id": "b06b3723b8424cc89dfd7a7c0e587868",
       "version_major": 2,
       "version_minor": 0
      },
      "text/plain": [
       "TqdmHBox(children=(HTML(value='Iterations:', layout=Layout(width='6%')), FloatProgress(value=0.0, layout=Layou…"
      ]
     },
     "metadata": {},
     "output_type": "display_data"
    },
    {
     "data": {
      "application/vnd.jupyter.widget-view+json": {
       "model_id": "8727e325da2a4f6181b2f7774a2a3564",
       "version_major": 2,
       "version_minor": 0
      },
      "text/plain": [
       "TqdmHBox(children=(HTML(value='Packets:   ', layout=Layout(width='6%')), FloatProgress(value=0.0, layout=Layou…"
      ]
     },
     "metadata": {},
     "output_type": "display_data"
    },
    {
     "name": "stdout",
     "output_type": "stream",
     "text": [
      "[\u001b[1mtardis.simulation.base\u001b[0m][\u001b[1;37mINFO\u001b[0m   ]  \n",
      "\t\n",
      "\tLuminosity emitted   = 7.942e+42 erg / s\n",
      "\tLuminosity absorbed  = 2.659e+42 erg / s\n",
      "\tLuminosity requested = 1.059e+43 erg / s\n",
      " (\u001b[1mbase.py\u001b[0m:559)\n",
      "[\u001b[1mtardis.simulation.base\u001b[0m][\u001b[1;37mINFO\u001b[0m   ]  \n",
      "\t\n",
      "\tPlasma stratification: (\u001b[1mbase.py\u001b[0m:527)\n"
     ]
    },
    {
     "data": {
      "text/html": [
       "<style  type=\"text/css\" >\n",
       "</style><table id=\"T_082d33d2_ce57_11ed_86b4_00155db69a9a\" ><thead>    <tr>        <th class=\"index_name level0\" >Shell No.</th>        <th class=\"col_heading level0 col0\" >t_rad</th>        <th class=\"col_heading level0 col1\" >next_t_rad</th>        <th class=\"col_heading level0 col2\" >w</th>        <th class=\"col_heading level0 col3\" >next_w</th>    </tr></thead><tbody>\n",
       "                <tr>\n",
       "                        <th id=\"T_082d33d2_ce57_11ed_86b4_00155db69a9alevel0_row0\" class=\"row_heading level0 row0\" >0</th>\n",
       "                        <td id=\"T_082d33d2_ce57_11ed_86b4_00155db69a9arow0_col0\" class=\"data row0 col0\" >9.93e+03</td>\n",
       "                        <td id=\"T_082d33d2_ce57_11ed_86b4_00155db69a9arow0_col1\" class=\"data row0 col1\" >1.01e+04</td>\n",
       "                        <td id=\"T_082d33d2_ce57_11ed_86b4_00155db69a9arow0_col2\" class=\"data row0 col2\" >0.4</td>\n",
       "                        <td id=\"T_082d33d2_ce57_11ed_86b4_00155db69a9arow0_col3\" class=\"data row0 col3\" >0.507</td>\n",
       "            </tr>\n",
       "            <tr>\n",
       "                        <th id=\"T_082d33d2_ce57_11ed_86b4_00155db69a9alevel0_row1\" class=\"row_heading level0 row1\" >5</th>\n",
       "                        <td id=\"T_082d33d2_ce57_11ed_86b4_00155db69a9arow1_col0\" class=\"data row1 col0\" >9.85e+03</td>\n",
       "                        <td id=\"T_082d33d2_ce57_11ed_86b4_00155db69a9arow1_col1\" class=\"data row1 col1\" >1.02e+04</td>\n",
       "                        <td id=\"T_082d33d2_ce57_11ed_86b4_00155db69a9arow1_col2\" class=\"data row1 col2\" >0.211</td>\n",
       "                        <td id=\"T_082d33d2_ce57_11ed_86b4_00155db69a9arow1_col3\" class=\"data row1 col3\" >0.197</td>\n",
       "            </tr>\n",
       "            <tr>\n",
       "                        <th id=\"T_082d33d2_ce57_11ed_86b4_00155db69a9alevel0_row2\" class=\"row_heading level0 row2\" >10</th>\n",
       "                        <td id=\"T_082d33d2_ce57_11ed_86b4_00155db69a9arow2_col0\" class=\"data row2 col0\" >9.78e+03</td>\n",
       "                        <td id=\"T_082d33d2_ce57_11ed_86b4_00155db69a9arow2_col1\" class=\"data row2 col1\" >1.01e+04</td>\n",
       "                        <td id=\"T_082d33d2_ce57_11ed_86b4_00155db69a9arow2_col2\" class=\"data row2 col2\" >0.143</td>\n",
       "                        <td id=\"T_082d33d2_ce57_11ed_86b4_00155db69a9arow2_col3\" class=\"data row2 col3\" >0.117</td>\n",
       "            </tr>\n",
       "            <tr>\n",
       "                        <th id=\"T_082d33d2_ce57_11ed_86b4_00155db69a9alevel0_row3\" class=\"row_heading level0 row3\" >15</th>\n",
       "                        <td id=\"T_082d33d2_ce57_11ed_86b4_00155db69a9arow3_col0\" class=\"data row3 col0\" >9.71e+03</td>\n",
       "                        <td id=\"T_082d33d2_ce57_11ed_86b4_00155db69a9arow3_col1\" class=\"data row3 col1\" >9.87e+03</td>\n",
       "                        <td id=\"T_082d33d2_ce57_11ed_86b4_00155db69a9arow3_col2\" class=\"data row3 col2\" >0.105</td>\n",
       "                        <td id=\"T_082d33d2_ce57_11ed_86b4_00155db69a9arow3_col3\" class=\"data row3 col3\" >0.0869</td>\n",
       "            </tr>\n",
       "    </tbody></table>"
      ],
      "text/plain": [
       "<pandas.io.formats.style.Styler at 0x7f06f6048ee0>"
      ]
     },
     "metadata": {},
     "output_type": "display_data"
    },
    {
     "name": "stdout",
     "output_type": "stream",
     "text": [
      "[\u001b[1mtardis.simulation.base\u001b[0m][\u001b[1;37mINFO\u001b[0m   ]  \n",
      "\t\n",
      "\tCurrent t_inner = 9933.952 K\n",
      "\tExpected t_inner for next iteration = 10703.212 K\n",
      " (\u001b[1mbase.py\u001b[0m:554)\n",
      "[\u001b[1mpy.warnings         \u001b[0m][\u001b[1;33mWARNING\u001b[0m]  \n",
      "\t/home/pratyusha132/tardis/tardis/plasma/properties/radiative_properties.py:93: RuntimeWarning: invalid value encountered in true_divide\n",
      "  (g_lower * n_upper) / (g_upper * n_lower)\n",
      " (\u001b[1mwarnings.py\u001b[0m:109)\n",
      "[\u001b[1mtardis.simulation.base\u001b[0m][\u001b[1;37mINFO\u001b[0m   ]  \n",
      "\t\n",
      "\tStarting iteration 2 of 20 (\u001b[1mbase.py\u001b[0m:385)\n",
      "[\u001b[1mtardis.simulation.base\u001b[0m][\u001b[1;37mINFO\u001b[0m   ]  \n",
      "\t\n",
      "\tLuminosity emitted   = 1.071e+43 erg / s\n",
      "\tLuminosity absorbed  = 3.576e+42 erg / s\n",
      "\tLuminosity requested = 1.059e+43 erg / s\n",
      " (\u001b[1mbase.py\u001b[0m:559)\n",
      "[\u001b[1mtardis.simulation.base\u001b[0m][\u001b[1;37mINFO\u001b[0m   ]  \n",
      "\t\n",
      "\tPlasma stratification: (\u001b[1mbase.py\u001b[0m:527)\n"
     ]
    },
    {
     "data": {
      "text/html": [
       "<style  type=\"text/css\" >\n",
       "</style><table id=\"T_09cb95e4_ce57_11ed_86b4_00155db69a9a\" ><thead>    <tr>        <th class=\"index_name level0\" >Shell No.</th>        <th class=\"col_heading level0 col0\" >t_rad</th>        <th class=\"col_heading level0 col1\" >next_t_rad</th>        <th class=\"col_heading level0 col2\" >w</th>        <th class=\"col_heading level0 col3\" >next_w</th>    </tr></thead><tbody>\n",
       "                <tr>\n",
       "                        <th id=\"T_09cb95e4_ce57_11ed_86b4_00155db69a9alevel0_row0\" class=\"row_heading level0 row0\" >0</th>\n",
       "                        <td id=\"T_09cb95e4_ce57_11ed_86b4_00155db69a9arow0_col0\" class=\"data row0 col0\" >1.01e+04</td>\n",
       "                        <td id=\"T_09cb95e4_ce57_11ed_86b4_00155db69a9arow0_col1\" class=\"data row0 col1\" >1.08e+04</td>\n",
       "                        <td id=\"T_09cb95e4_ce57_11ed_86b4_00155db69a9arow0_col2\" class=\"data row0 col2\" >0.507</td>\n",
       "                        <td id=\"T_09cb95e4_ce57_11ed_86b4_00155db69a9arow0_col3\" class=\"data row0 col3\" >0.525</td>\n",
       "            </tr>\n",
       "            <tr>\n",
       "                        <th id=\"T_09cb95e4_ce57_11ed_86b4_00155db69a9alevel0_row1\" class=\"row_heading level0 row1\" >5</th>\n",
       "                        <td id=\"T_09cb95e4_ce57_11ed_86b4_00155db69a9arow1_col0\" class=\"data row1 col0\" >1.02e+04</td>\n",
       "                        <td id=\"T_09cb95e4_ce57_11ed_86b4_00155db69a9arow1_col1\" class=\"data row1 col1\" >1.1e+04</td>\n",
       "                        <td id=\"T_09cb95e4_ce57_11ed_86b4_00155db69a9arow1_col2\" class=\"data row1 col2\" >0.197</td>\n",
       "                        <td id=\"T_09cb95e4_ce57_11ed_86b4_00155db69a9arow1_col3\" class=\"data row1 col3\" >0.203</td>\n",
       "            </tr>\n",
       "            <tr>\n",
       "                        <th id=\"T_09cb95e4_ce57_11ed_86b4_00155db69a9alevel0_row2\" class=\"row_heading level0 row2\" >10</th>\n",
       "                        <td id=\"T_09cb95e4_ce57_11ed_86b4_00155db69a9arow2_col0\" class=\"data row2 col0\" >1.01e+04</td>\n",
       "                        <td id=\"T_09cb95e4_ce57_11ed_86b4_00155db69a9arow2_col1\" class=\"data row2 col1\" >1.08e+04</td>\n",
       "                        <td id=\"T_09cb95e4_ce57_11ed_86b4_00155db69a9arow2_col2\" class=\"data row2 col2\" >0.117</td>\n",
       "                        <td id=\"T_09cb95e4_ce57_11ed_86b4_00155db69a9arow2_col3\" class=\"data row2 col3\" >0.125</td>\n",
       "            </tr>\n",
       "            <tr>\n",
       "                        <th id=\"T_09cb95e4_ce57_11ed_86b4_00155db69a9alevel0_row3\" class=\"row_heading level0 row3\" >15</th>\n",
       "                        <td id=\"T_09cb95e4_ce57_11ed_86b4_00155db69a9arow3_col0\" class=\"data row3 col0\" >9.87e+03</td>\n",
       "                        <td id=\"T_09cb95e4_ce57_11ed_86b4_00155db69a9arow3_col1\" class=\"data row3 col1\" >1.05e+04</td>\n",
       "                        <td id=\"T_09cb95e4_ce57_11ed_86b4_00155db69a9arow3_col2\" class=\"data row3 col2\" >0.0869</td>\n",
       "                        <td id=\"T_09cb95e4_ce57_11ed_86b4_00155db69a9arow3_col3\" class=\"data row3 col3\" >0.0933</td>\n",
       "            </tr>\n",
       "    </tbody></table>"
      ],
      "text/plain": [
       "<pandas.io.formats.style.Styler at 0x7f0754c016d0>"
      ]
     },
     "metadata": {},
     "output_type": "display_data"
    },
    {
     "name": "stdout",
     "output_type": "stream",
     "text": [
      "[\u001b[1mtardis.simulation.base\u001b[0m][\u001b[1;37mINFO\u001b[0m   ]  \n",
      "\t\n",
      "\tCurrent t_inner = 10703.212 K\n",
      "\tExpected t_inner for next iteration = 10673.712 K\n",
      " (\u001b[1mbase.py\u001b[0m:554)\n",
      "[\u001b[1mtardis.simulation.base\u001b[0m][\u001b[1;37mINFO\u001b[0m   ]  \n",
      "\t\n",
      "\tStarting iteration 3 of 20 (\u001b[1mbase.py\u001b[0m:385)\n",
      "[\u001b[1mtardis.simulation.base\u001b[0m][\u001b[1;37mINFO\u001b[0m   ]  \n",
      "\t\n",
      "\tLuminosity emitted   = 1.074e+43 erg / s\n",
      "\tLuminosity absorbed  = 3.391e+42 erg / s\n",
      "\tLuminosity requested = 1.059e+43 erg / s\n",
      " (\u001b[1mbase.py\u001b[0m:559)\n",
      "[\u001b[1mtardis.simulation.base\u001b[0m][\u001b[1;37mINFO\u001b[0m   ]  \n",
      "\t\n",
      "\tPlasma stratification: (\u001b[1mbase.py\u001b[0m:527)\n"
     ]
    },
    {
     "data": {
      "text/html": [
       "<style  type=\"text/css\" >\n",
       "</style><table id=\"T_0b9be4d2_ce57_11ed_86b4_00155db69a9a\" ><thead>    <tr>        <th class=\"index_name level0\" >Shell No.</th>        <th class=\"col_heading level0 col0\" >t_rad</th>        <th class=\"col_heading level0 col1\" >next_t_rad</th>        <th class=\"col_heading level0 col2\" >w</th>        <th class=\"col_heading level0 col3\" >next_w</th>    </tr></thead><tbody>\n",
       "                <tr>\n",
       "                        <th id=\"T_0b9be4d2_ce57_11ed_86b4_00155db69a9alevel0_row0\" class=\"row_heading level0 row0\" >0</th>\n",
       "                        <td id=\"T_0b9be4d2_ce57_11ed_86b4_00155db69a9arow0_col0\" class=\"data row0 col0\" >1.08e+04</td>\n",
       "                        <td id=\"T_0b9be4d2_ce57_11ed_86b4_00155db69a9arow0_col1\" class=\"data row0 col1\" >1.1e+04</td>\n",
       "                        <td id=\"T_0b9be4d2_ce57_11ed_86b4_00155db69a9arow0_col2\" class=\"data row0 col2\" >0.525</td>\n",
       "                        <td id=\"T_0b9be4d2_ce57_11ed_86b4_00155db69a9arow0_col3\" class=\"data row0 col3\" >0.483</td>\n",
       "            </tr>\n",
       "            <tr>\n",
       "                        <th id=\"T_0b9be4d2_ce57_11ed_86b4_00155db69a9alevel0_row1\" class=\"row_heading level0 row1\" >5</th>\n",
       "                        <td id=\"T_0b9be4d2_ce57_11ed_86b4_00155db69a9arow1_col0\" class=\"data row1 col0\" >1.1e+04</td>\n",
       "                        <td id=\"T_0b9be4d2_ce57_11ed_86b4_00155db69a9arow1_col1\" class=\"data row1 col1\" >1.12e+04</td>\n",
       "                        <td id=\"T_0b9be4d2_ce57_11ed_86b4_00155db69a9arow1_col2\" class=\"data row1 col2\" >0.203</td>\n",
       "                        <td id=\"T_0b9be4d2_ce57_11ed_86b4_00155db69a9arow1_col3\" class=\"data row1 col3\" >0.189</td>\n",
       "            </tr>\n",
       "            <tr>\n",
       "                        <th id=\"T_0b9be4d2_ce57_11ed_86b4_00155db69a9alevel0_row2\" class=\"row_heading level0 row2\" >10</th>\n",
       "                        <td id=\"T_0b9be4d2_ce57_11ed_86b4_00155db69a9arow2_col0\" class=\"data row2 col0\" >1.08e+04</td>\n",
       "                        <td id=\"T_0b9be4d2_ce57_11ed_86b4_00155db69a9arow2_col1\" class=\"data row2 col1\" >1.1e+04</td>\n",
       "                        <td id=\"T_0b9be4d2_ce57_11ed_86b4_00155db69a9arow2_col2\" class=\"data row2 col2\" >0.125</td>\n",
       "                        <td id=\"T_0b9be4d2_ce57_11ed_86b4_00155db69a9arow2_col3\" class=\"data row2 col3\" >0.118</td>\n",
       "            </tr>\n",
       "            <tr>\n",
       "                        <th id=\"T_0b9be4d2_ce57_11ed_86b4_00155db69a9alevel0_row3\" class=\"row_heading level0 row3\" >15</th>\n",
       "                        <td id=\"T_0b9be4d2_ce57_11ed_86b4_00155db69a9arow3_col0\" class=\"data row3 col0\" >1.05e+04</td>\n",
       "                        <td id=\"T_0b9be4d2_ce57_11ed_86b4_00155db69a9arow3_col1\" class=\"data row3 col1\" >1.06e+04</td>\n",
       "                        <td id=\"T_0b9be4d2_ce57_11ed_86b4_00155db69a9arow3_col2\" class=\"data row3 col2\" >0.0933</td>\n",
       "                        <td id=\"T_0b9be4d2_ce57_11ed_86b4_00155db69a9arow3_col3\" class=\"data row3 col3\" >0.0895</td>\n",
       "            </tr>\n",
       "    </tbody></table>"
      ],
      "text/plain": [
       "<pandas.io.formats.style.Styler at 0x7f06f76dd550>"
      ]
     },
     "metadata": {},
     "output_type": "display_data"
    },
    {
     "name": "stdout",
     "output_type": "stream",
     "text": [
      "[\u001b[1mtardis.simulation.base\u001b[0m][\u001b[1;37mINFO\u001b[0m   ]  \n",
      "\t\n",
      "\tCurrent t_inner = 10673.712 K\n",
      "\tExpected t_inner for next iteration = 10635.953 K\n",
      " (\u001b[1mbase.py\u001b[0m:554)\n",
      "[\u001b[1mtardis.simulation.base\u001b[0m][\u001b[1;37mINFO\u001b[0m   ]  \n",
      "\t\n",
      "\tStarting iteration 4 of 20 (\u001b[1mbase.py\u001b[0m:385)\n",
      "[\u001b[1mtardis.simulation.base\u001b[0m][\u001b[1;37mINFO\u001b[0m   ]  \n",
      "\t\n",
      "\tLuminosity emitted   = 1.058e+43 erg / s\n",
      "\tLuminosity absorbed  = 3.352e+42 erg / s\n",
      "\tLuminosity requested = 1.059e+43 erg / s\n",
      " (\u001b[1mbase.py\u001b[0m:559)\n",
      "[\u001b[1mtardis.simulation.base\u001b[0m][\u001b[1;37mINFO\u001b[0m   ]  \n",
      "\t\n",
      "\tPlasma stratification: (\u001b[1mbase.py\u001b[0m:527)\n"
     ]
    },
    {
     "data": {
      "text/html": [
       "<style  type=\"text/css\" >\n",
       "</style><table id=\"T_0d4d2bb0_ce57_11ed_86b4_00155db69a9a\" ><thead>    <tr>        <th class=\"index_name level0\" >Shell No.</th>        <th class=\"col_heading level0 col0\" >t_rad</th>        <th class=\"col_heading level0 col1\" >next_t_rad</th>        <th class=\"col_heading level0 col2\" >w</th>        <th class=\"col_heading level0 col3\" >next_w</th>    </tr></thead><tbody>\n",
       "                <tr>\n",
       "                        <th id=\"T_0d4d2bb0_ce57_11ed_86b4_00155db69a9alevel0_row0\" class=\"row_heading level0 row0\" >0</th>\n",
       "                        <td id=\"T_0d4d2bb0_ce57_11ed_86b4_00155db69a9arow0_col0\" class=\"data row0 col0\" >1.1e+04</td>\n",
       "                        <td id=\"T_0d4d2bb0_ce57_11ed_86b4_00155db69a9arow0_col1\" class=\"data row0 col1\" >1.1e+04</td>\n",
       "                        <td id=\"T_0d4d2bb0_ce57_11ed_86b4_00155db69a9arow0_col2\" class=\"data row0 col2\" >0.483</td>\n",
       "                        <td id=\"T_0d4d2bb0_ce57_11ed_86b4_00155db69a9arow0_col3\" class=\"data row0 col3\" >0.469</td>\n",
       "            </tr>\n",
       "            <tr>\n",
       "                        <th id=\"T_0d4d2bb0_ce57_11ed_86b4_00155db69a9alevel0_row1\" class=\"row_heading level0 row1\" >5</th>\n",
       "                        <td id=\"T_0d4d2bb0_ce57_11ed_86b4_00155db69a9arow1_col0\" class=\"data row1 col0\" >1.12e+04</td>\n",
       "                        <td id=\"T_0d4d2bb0_ce57_11ed_86b4_00155db69a9arow1_col1\" class=\"data row1 col1\" >1.12e+04</td>\n",
       "                        <td id=\"T_0d4d2bb0_ce57_11ed_86b4_00155db69a9arow1_col2\" class=\"data row1 col2\" >0.189</td>\n",
       "                        <td id=\"T_0d4d2bb0_ce57_11ed_86b4_00155db69a9arow1_col3\" class=\"data row1 col3\" >0.182</td>\n",
       "            </tr>\n",
       "            <tr>\n",
       "                        <th id=\"T_0d4d2bb0_ce57_11ed_86b4_00155db69a9alevel0_row2\" class=\"row_heading level0 row2\" >10</th>\n",
       "                        <td id=\"T_0d4d2bb0_ce57_11ed_86b4_00155db69a9arow2_col0\" class=\"data row2 col0\" >1.1e+04</td>\n",
       "                        <td id=\"T_0d4d2bb0_ce57_11ed_86b4_00155db69a9arow2_col1\" class=\"data row2 col1\" >1.1e+04</td>\n",
       "                        <td id=\"T_0d4d2bb0_ce57_11ed_86b4_00155db69a9arow2_col2\" class=\"data row2 col2\" >0.118</td>\n",
       "                        <td id=\"T_0d4d2bb0_ce57_11ed_86b4_00155db69a9arow2_col3\" class=\"data row2 col3\" >0.113</td>\n",
       "            </tr>\n",
       "            <tr>\n",
       "                        <th id=\"T_0d4d2bb0_ce57_11ed_86b4_00155db69a9alevel0_row3\" class=\"row_heading level0 row3\" >15</th>\n",
       "                        <td id=\"T_0d4d2bb0_ce57_11ed_86b4_00155db69a9arow3_col0\" class=\"data row3 col0\" >1.06e+04</td>\n",
       "                        <td id=\"T_0d4d2bb0_ce57_11ed_86b4_00155db69a9arow3_col1\" class=\"data row3 col1\" >1.07e+04</td>\n",
       "                        <td id=\"T_0d4d2bb0_ce57_11ed_86b4_00155db69a9arow3_col2\" class=\"data row3 col2\" >0.0895</td>\n",
       "                        <td id=\"T_0d4d2bb0_ce57_11ed_86b4_00155db69a9arow3_col3\" class=\"data row3 col3\" >0.0861</td>\n",
       "            </tr>\n",
       "    </tbody></table>"
      ],
      "text/plain": [
       "<pandas.io.formats.style.Styler at 0x7f06f76dd670>"
      ]
     },
     "metadata": {},
     "output_type": "display_data"
    },
    {
     "name": "stdout",
     "output_type": "stream",
     "text": [
      "[\u001b[1mtardis.simulation.base\u001b[0m][\u001b[1;37mINFO\u001b[0m   ]  \n",
      "\t\n",
      "\tCurrent t_inner = 10635.953 K\n",
      "\tExpected t_inner for next iteration = 10638.407 K\n",
      " (\u001b[1mbase.py\u001b[0m:554)\n",
      "[\u001b[1mtardis.simulation.base\u001b[0m][\u001b[1;37mINFO\u001b[0m   ]  \n",
      "\t\n",
      "\tStarting iteration 5 of 20 (\u001b[1mbase.py\u001b[0m:385)\n",
      "[\u001b[1mtardis.simulation.base\u001b[0m][\u001b[1;37mINFO\u001b[0m   ]  \n",
      "\t\n",
      "\tLuminosity emitted   = 1.055e+43 erg / s\n",
      "\tLuminosity absorbed  = 3.399e+42 erg / s\n",
      "\tLuminosity requested = 1.059e+43 erg / s\n",
      " (\u001b[1mbase.py\u001b[0m:559)\n",
      "[\u001b[1mtardis.simulation.base\u001b[0m][\u001b[1;37mINFO\u001b[0m   ]  \n",
      "\tIteration converged 1/4 consecutive times. (\u001b[1mbase.py\u001b[0m:266)\n",
      "[\u001b[1mtardis.simulation.base\u001b[0m][\u001b[1;37mINFO\u001b[0m   ]  \n",
      "\t\n",
      "\tPlasma stratification: (\u001b[1mbase.py\u001b[0m:527)\n"
     ]
    },
    {
     "data": {
      "text/html": [
       "<style  type=\"text/css\" >\n",
       "</style><table id=\"T_0f07d6d0_ce57_11ed_86b4_00155db69a9a\" ><thead>    <tr>        <th class=\"index_name level0\" >Shell No.</th>        <th class=\"col_heading level0 col0\" >t_rad</th>        <th class=\"col_heading level0 col1\" >next_t_rad</th>        <th class=\"col_heading level0 col2\" >w</th>        <th class=\"col_heading level0 col3\" >next_w</th>    </tr></thead><tbody>\n",
       "                <tr>\n",
       "                        <th id=\"T_0f07d6d0_ce57_11ed_86b4_00155db69a9alevel0_row0\" class=\"row_heading level0 row0\" >0</th>\n",
       "                        <td id=\"T_0f07d6d0_ce57_11ed_86b4_00155db69a9arow0_col0\" class=\"data row0 col0\" >1.1e+04</td>\n",
       "                        <td id=\"T_0f07d6d0_ce57_11ed_86b4_00155db69a9arow0_col1\" class=\"data row0 col1\" >1.1e+04</td>\n",
       "                        <td id=\"T_0f07d6d0_ce57_11ed_86b4_00155db69a9arow0_col2\" class=\"data row0 col2\" >0.469</td>\n",
       "                        <td id=\"T_0f07d6d0_ce57_11ed_86b4_00155db69a9arow0_col3\" class=\"data row0 col3\" >0.479</td>\n",
       "            </tr>\n",
       "            <tr>\n",
       "                        <th id=\"T_0f07d6d0_ce57_11ed_86b4_00155db69a9alevel0_row1\" class=\"row_heading level0 row1\" >5</th>\n",
       "                        <td id=\"T_0f07d6d0_ce57_11ed_86b4_00155db69a9arow1_col0\" class=\"data row1 col0\" >1.12e+04</td>\n",
       "                        <td id=\"T_0f07d6d0_ce57_11ed_86b4_00155db69a9arow1_col1\" class=\"data row1 col1\" >1.13e+04</td>\n",
       "                        <td id=\"T_0f07d6d0_ce57_11ed_86b4_00155db69a9arow1_col2\" class=\"data row1 col2\" >0.182</td>\n",
       "                        <td id=\"T_0f07d6d0_ce57_11ed_86b4_00155db69a9arow1_col3\" class=\"data row1 col3\" >0.178</td>\n",
       "            </tr>\n",
       "            <tr>\n",
       "                        <th id=\"T_0f07d6d0_ce57_11ed_86b4_00155db69a9alevel0_row2\" class=\"row_heading level0 row2\" >10</th>\n",
       "                        <td id=\"T_0f07d6d0_ce57_11ed_86b4_00155db69a9arow2_col0\" class=\"data row2 col0\" >1.1e+04</td>\n",
       "                        <td id=\"T_0f07d6d0_ce57_11ed_86b4_00155db69a9arow2_col1\" class=\"data row2 col1\" >1.1e+04</td>\n",
       "                        <td id=\"T_0f07d6d0_ce57_11ed_86b4_00155db69a9arow2_col2\" class=\"data row2 col2\" >0.113</td>\n",
       "                        <td id=\"T_0f07d6d0_ce57_11ed_86b4_00155db69a9arow2_col3\" class=\"data row2 col3\" >0.113</td>\n",
       "            </tr>\n",
       "            <tr>\n",
       "                        <th id=\"T_0f07d6d0_ce57_11ed_86b4_00155db69a9alevel0_row3\" class=\"row_heading level0 row3\" >15</th>\n",
       "                        <td id=\"T_0f07d6d0_ce57_11ed_86b4_00155db69a9arow3_col0\" class=\"data row3 col0\" >1.07e+04</td>\n",
       "                        <td id=\"T_0f07d6d0_ce57_11ed_86b4_00155db69a9arow3_col1\" class=\"data row3 col1\" >1.07e+04</td>\n",
       "                        <td id=\"T_0f07d6d0_ce57_11ed_86b4_00155db69a9arow3_col2\" class=\"data row3 col2\" >0.0861</td>\n",
       "                        <td id=\"T_0f07d6d0_ce57_11ed_86b4_00155db69a9arow3_col3\" class=\"data row3 col3\" >0.0839</td>\n",
       "            </tr>\n",
       "    </tbody></table>"
      ],
      "text/plain": [
       "<pandas.io.formats.style.Styler at 0x7f06f743d430>"
      ]
     },
     "metadata": {},
     "output_type": "display_data"
    },
    {
     "name": "stdout",
     "output_type": "stream",
     "text": [
      "[\u001b[1mtardis.simulation.base\u001b[0m][\u001b[1;37mINFO\u001b[0m   ]  \n",
      "\t\n",
      "\tCurrent t_inner = 10638.407 K\n",
      "\tExpected t_inner for next iteration = 10650.202 K\n",
      " (\u001b[1mbase.py\u001b[0m:554)\n",
      "[\u001b[1mtardis.simulation.base\u001b[0m][\u001b[1;37mINFO\u001b[0m   ]  \n",
      "\t\n",
      "\tStarting iteration 6 of 20 (\u001b[1mbase.py\u001b[0m:385)\n",
      "[\u001b[1mtardis.simulation.base\u001b[0m][\u001b[1;37mINFO\u001b[0m   ]  \n",
      "\t\n",
      "\tLuminosity emitted   = 1.061e+43 erg / s\n",
      "\tLuminosity absorbed  = 3.398e+42 erg / s\n",
      "\tLuminosity requested = 1.059e+43 erg / s\n",
      " (\u001b[1mbase.py\u001b[0m:559)\n",
      "[\u001b[1mtardis.simulation.base\u001b[0m][\u001b[1;37mINFO\u001b[0m   ]  \n",
      "\tIteration converged 2/4 consecutive times. (\u001b[1mbase.py\u001b[0m:266)\n",
      "[\u001b[1mtardis.simulation.base\u001b[0m][\u001b[1;37mINFO\u001b[0m   ]  \n",
      "\t\n",
      "\tPlasma stratification: (\u001b[1mbase.py\u001b[0m:527)\n"
     ]
    },
    {
     "data": {
      "text/html": [
       "<style  type=\"text/css\" >\n",
       "</style><table id=\"T_1103b2ba_ce57_11ed_86b4_00155db69a9a\" ><thead>    <tr>        <th class=\"index_name level0\" >Shell No.</th>        <th class=\"col_heading level0 col0\" >t_rad</th>        <th class=\"col_heading level0 col1\" >next_t_rad</th>        <th class=\"col_heading level0 col2\" >w</th>        <th class=\"col_heading level0 col3\" >next_w</th>    </tr></thead><tbody>\n",
       "                <tr>\n",
       "                        <th id=\"T_1103b2ba_ce57_11ed_86b4_00155db69a9alevel0_row0\" class=\"row_heading level0 row0\" >0</th>\n",
       "                        <td id=\"T_1103b2ba_ce57_11ed_86b4_00155db69a9arow0_col0\" class=\"data row0 col0\" >1.1e+04</td>\n",
       "                        <td id=\"T_1103b2ba_ce57_11ed_86b4_00155db69a9arow0_col1\" class=\"data row0 col1\" >1.1e+04</td>\n",
       "                        <td id=\"T_1103b2ba_ce57_11ed_86b4_00155db69a9arow0_col2\" class=\"data row0 col2\" >0.479</td>\n",
       "                        <td id=\"T_1103b2ba_ce57_11ed_86b4_00155db69a9arow0_col3\" class=\"data row0 col3\" >0.47</td>\n",
       "            </tr>\n",
       "            <tr>\n",
       "                        <th id=\"T_1103b2ba_ce57_11ed_86b4_00155db69a9alevel0_row1\" class=\"row_heading level0 row1\" >5</th>\n",
       "                        <td id=\"T_1103b2ba_ce57_11ed_86b4_00155db69a9arow1_col0\" class=\"data row1 col0\" >1.13e+04</td>\n",
       "                        <td id=\"T_1103b2ba_ce57_11ed_86b4_00155db69a9arow1_col1\" class=\"data row1 col1\" >1.12e+04</td>\n",
       "                        <td id=\"T_1103b2ba_ce57_11ed_86b4_00155db69a9arow1_col2\" class=\"data row1 col2\" >0.178</td>\n",
       "                        <td id=\"T_1103b2ba_ce57_11ed_86b4_00155db69a9arow1_col3\" class=\"data row1 col3\" >0.185</td>\n",
       "            </tr>\n",
       "            <tr>\n",
       "                        <th id=\"T_1103b2ba_ce57_11ed_86b4_00155db69a9alevel0_row2\" class=\"row_heading level0 row2\" >10</th>\n",
       "                        <td id=\"T_1103b2ba_ce57_11ed_86b4_00155db69a9arow2_col0\" class=\"data row2 col0\" >1.1e+04</td>\n",
       "                        <td id=\"T_1103b2ba_ce57_11ed_86b4_00155db69a9arow2_col1\" class=\"data row2 col1\" >1.11e+04</td>\n",
       "                        <td id=\"T_1103b2ba_ce57_11ed_86b4_00155db69a9arow2_col2\" class=\"data row2 col2\" >0.113</td>\n",
       "                        <td id=\"T_1103b2ba_ce57_11ed_86b4_00155db69a9arow2_col3\" class=\"data row2 col3\" >0.112</td>\n",
       "            </tr>\n",
       "            <tr>\n",
       "                        <th id=\"T_1103b2ba_ce57_11ed_86b4_00155db69a9alevel0_row3\" class=\"row_heading level0 row3\" >15</th>\n",
       "                        <td id=\"T_1103b2ba_ce57_11ed_86b4_00155db69a9arow3_col0\" class=\"data row3 col0\" >1.07e+04</td>\n",
       "                        <td id=\"T_1103b2ba_ce57_11ed_86b4_00155db69a9arow3_col1\" class=\"data row3 col1\" >1.07e+04</td>\n",
       "                        <td id=\"T_1103b2ba_ce57_11ed_86b4_00155db69a9arow3_col2\" class=\"data row3 col2\" >0.0839</td>\n",
       "                        <td id=\"T_1103b2ba_ce57_11ed_86b4_00155db69a9arow3_col3\" class=\"data row3 col3\" >0.0856</td>\n",
       "            </tr>\n",
       "    </tbody></table>"
      ],
      "text/plain": [
       "<pandas.io.formats.style.Styler at 0x7f06f77ba790>"
      ]
     },
     "metadata": {},
     "output_type": "display_data"
    },
    {
     "name": "stdout",
     "output_type": "stream",
     "text": [
      "[\u001b[1mtardis.simulation.base\u001b[0m][\u001b[1;37mINFO\u001b[0m   ]  \n",
      "\t\n",
      "\tCurrent t_inner = 10650.202 K\n",
      "\tExpected t_inner for next iteration = 10645.955 K\n",
      " (\u001b[1mbase.py\u001b[0m:554)\n",
      "[\u001b[1mtardis.simulation.base\u001b[0m][\u001b[1;37mINFO\u001b[0m   ]  \n",
      "\t\n",
      "\tStarting iteration 7 of 20 (\u001b[1mbase.py\u001b[0m:385)\n",
      "[\u001b[1mtardis.simulation.base\u001b[0m][\u001b[1;37mINFO\u001b[0m   ]  \n",
      "\t\n",
      "\tLuminosity emitted   = 1.061e+43 erg / s\n",
      "\tLuminosity absorbed  = 3.382e+42 erg / s\n",
      "\tLuminosity requested = 1.059e+43 erg / s\n",
      " (\u001b[1mbase.py\u001b[0m:559)\n",
      "[\u001b[1mtardis.simulation.base\u001b[0m][\u001b[1;37mINFO\u001b[0m   ]  \n",
      "\tIteration converged 3/4 consecutive times. (\u001b[1mbase.py\u001b[0m:266)\n",
      "[\u001b[1mtardis.simulation.base\u001b[0m][\u001b[1;37mINFO\u001b[0m   ]  \n",
      "\t\n",
      "\tPlasma stratification: (\u001b[1mbase.py\u001b[0m:527)\n"
     ]
    },
    {
     "data": {
      "text/html": [
       "<style  type=\"text/css\" >\n",
       "</style><table id=\"T_12bd2744_ce57_11ed_86b4_00155db69a9a\" ><thead>    <tr>        <th class=\"index_name level0\" >Shell No.</th>        <th class=\"col_heading level0 col0\" >t_rad</th>        <th class=\"col_heading level0 col1\" >next_t_rad</th>        <th class=\"col_heading level0 col2\" >w</th>        <th class=\"col_heading level0 col3\" >next_w</th>    </tr></thead><tbody>\n",
       "                <tr>\n",
       "                        <th id=\"T_12bd2744_ce57_11ed_86b4_00155db69a9alevel0_row0\" class=\"row_heading level0 row0\" >0</th>\n",
       "                        <td id=\"T_12bd2744_ce57_11ed_86b4_00155db69a9arow0_col0\" class=\"data row0 col0\" >1.1e+04</td>\n",
       "                        <td id=\"T_12bd2744_ce57_11ed_86b4_00155db69a9arow0_col1\" class=\"data row0 col1\" >1.1e+04</td>\n",
       "                        <td id=\"T_12bd2744_ce57_11ed_86b4_00155db69a9arow0_col2\" class=\"data row0 col2\" >0.47</td>\n",
       "                        <td id=\"T_12bd2744_ce57_11ed_86b4_00155db69a9arow0_col3\" class=\"data row0 col3\" >0.47</td>\n",
       "            </tr>\n",
       "            <tr>\n",
       "                        <th id=\"T_12bd2744_ce57_11ed_86b4_00155db69a9alevel0_row1\" class=\"row_heading level0 row1\" >5</th>\n",
       "                        <td id=\"T_12bd2744_ce57_11ed_86b4_00155db69a9arow1_col0\" class=\"data row1 col0\" >1.12e+04</td>\n",
       "                        <td id=\"T_12bd2744_ce57_11ed_86b4_00155db69a9arow1_col1\" class=\"data row1 col1\" >1.13e+04</td>\n",
       "                        <td id=\"T_12bd2744_ce57_11ed_86b4_00155db69a9arow1_col2\" class=\"data row1 col2\" >0.185</td>\n",
       "                        <td id=\"T_12bd2744_ce57_11ed_86b4_00155db69a9arow1_col3\" class=\"data row1 col3\" >0.178</td>\n",
       "            </tr>\n",
       "            <tr>\n",
       "                        <th id=\"T_12bd2744_ce57_11ed_86b4_00155db69a9alevel0_row2\" class=\"row_heading level0 row2\" >10</th>\n",
       "                        <td id=\"T_12bd2744_ce57_11ed_86b4_00155db69a9arow2_col0\" class=\"data row2 col0\" >1.11e+04</td>\n",
       "                        <td id=\"T_12bd2744_ce57_11ed_86b4_00155db69a9arow2_col1\" class=\"data row2 col1\" >1.11e+04</td>\n",
       "                        <td id=\"T_12bd2744_ce57_11ed_86b4_00155db69a9arow2_col2\" class=\"data row2 col2\" >0.112</td>\n",
       "                        <td id=\"T_12bd2744_ce57_11ed_86b4_00155db69a9arow2_col3\" class=\"data row2 col3\" >0.112</td>\n",
       "            </tr>\n",
       "            <tr>\n",
       "                        <th id=\"T_12bd2744_ce57_11ed_86b4_00155db69a9alevel0_row3\" class=\"row_heading level0 row3\" >15</th>\n",
       "                        <td id=\"T_12bd2744_ce57_11ed_86b4_00155db69a9arow3_col0\" class=\"data row3 col0\" >1.07e+04</td>\n",
       "                        <td id=\"T_12bd2744_ce57_11ed_86b4_00155db69a9arow3_col1\" class=\"data row3 col1\" >1.07e+04</td>\n",
       "                        <td id=\"T_12bd2744_ce57_11ed_86b4_00155db69a9arow3_col2\" class=\"data row3 col2\" >0.0856</td>\n",
       "                        <td id=\"T_12bd2744_ce57_11ed_86b4_00155db69a9arow3_col3\" class=\"data row3 col3\" >0.086</td>\n",
       "            </tr>\n",
       "    </tbody></table>"
      ],
      "text/plain": [
       "<pandas.io.formats.style.Styler at 0x7f06f776a9a0>"
      ]
     },
     "metadata": {},
     "output_type": "display_data"
    },
    {
     "name": "stdout",
     "output_type": "stream",
     "text": [
      "[\u001b[1mtardis.simulation.base\u001b[0m][\u001b[1;37mINFO\u001b[0m   ]  \n",
      "\t\n",
      "\tCurrent t_inner = 10645.955 K\n",
      "\tExpected t_inner for next iteration = 10642.050 K\n",
      " (\u001b[1mbase.py\u001b[0m:554)\n",
      "[\u001b[1mtardis.simulation.base\u001b[0m][\u001b[1;37mINFO\u001b[0m   ]  \n",
      "\t\n",
      "\tStarting iteration 8 of 20 (\u001b[1mbase.py\u001b[0m:385)\n",
      "[\u001b[1mtardis.simulation.base\u001b[0m][\u001b[1;37mINFO\u001b[0m   ]  \n",
      "\t\n",
      "\tLuminosity emitted   = 1.062e+43 erg / s\n",
      "\tLuminosity absorbed  = 3.350e+42 erg / s\n",
      "\tLuminosity requested = 1.059e+43 erg / s\n",
      " (\u001b[1mbase.py\u001b[0m:559)\n",
      "[\u001b[1mtardis.simulation.base\u001b[0m][\u001b[1;37mINFO\u001b[0m   ]  \n",
      "\tIteration converged 4/4 consecutive times. (\u001b[1mbase.py\u001b[0m:266)\n",
      "[\u001b[1mtardis.simulation.base\u001b[0m][\u001b[1;37mINFO\u001b[0m   ]  \n",
      "\t\n",
      "\tPlasma stratification: (\u001b[1mbase.py\u001b[0m:527)\n"
     ]
    },
    {
     "data": {
      "text/html": [
       "<style  type=\"text/css\" >\n",
       "</style><table id=\"T_14a5e988_ce57_11ed_86b4_00155db69a9a\" ><thead>    <tr>        <th class=\"index_name level0\" >Shell No.</th>        <th class=\"col_heading level0 col0\" >t_rad</th>        <th class=\"col_heading level0 col1\" >next_t_rad</th>        <th class=\"col_heading level0 col2\" >w</th>        <th class=\"col_heading level0 col3\" >next_w</th>    </tr></thead><tbody>\n",
       "                <tr>\n",
       "                        <th id=\"T_14a5e988_ce57_11ed_86b4_00155db69a9alevel0_row0\" class=\"row_heading level0 row0\" >0</th>\n",
       "                        <td id=\"T_14a5e988_ce57_11ed_86b4_00155db69a9arow0_col0\" class=\"data row0 col0\" >1.1e+04</td>\n",
       "                        <td id=\"T_14a5e988_ce57_11ed_86b4_00155db69a9arow0_col1\" class=\"data row0 col1\" >1.11e+04</td>\n",
       "                        <td id=\"T_14a5e988_ce57_11ed_86b4_00155db69a9arow0_col2\" class=\"data row0 col2\" >0.47</td>\n",
       "                        <td id=\"T_14a5e988_ce57_11ed_86b4_00155db69a9arow0_col3\" class=\"data row0 col3\" >0.472</td>\n",
       "            </tr>\n",
       "            <tr>\n",
       "                        <th id=\"T_14a5e988_ce57_11ed_86b4_00155db69a9alevel0_row1\" class=\"row_heading level0 row1\" >5</th>\n",
       "                        <td id=\"T_14a5e988_ce57_11ed_86b4_00155db69a9arow1_col0\" class=\"data row1 col0\" >1.13e+04</td>\n",
       "                        <td id=\"T_14a5e988_ce57_11ed_86b4_00155db69a9arow1_col1\" class=\"data row1 col1\" >1.14e+04</td>\n",
       "                        <td id=\"T_14a5e988_ce57_11ed_86b4_00155db69a9arow1_col2\" class=\"data row1 col2\" >0.178</td>\n",
       "                        <td id=\"T_14a5e988_ce57_11ed_86b4_00155db69a9arow1_col3\" class=\"data row1 col3\" >0.175</td>\n",
       "            </tr>\n",
       "            <tr>\n",
       "                        <th id=\"T_14a5e988_ce57_11ed_86b4_00155db69a9alevel0_row2\" class=\"row_heading level0 row2\" >10</th>\n",
       "                        <td id=\"T_14a5e988_ce57_11ed_86b4_00155db69a9arow2_col0\" class=\"data row2 col0\" >1.11e+04</td>\n",
       "                        <td id=\"T_14a5e988_ce57_11ed_86b4_00155db69a9arow2_col1\" class=\"data row2 col1\" >1.11e+04</td>\n",
       "                        <td id=\"T_14a5e988_ce57_11ed_86b4_00155db69a9arow2_col2\" class=\"data row2 col2\" >0.112</td>\n",
       "                        <td id=\"T_14a5e988_ce57_11ed_86b4_00155db69a9arow2_col3\" class=\"data row2 col3\" >0.111</td>\n",
       "            </tr>\n",
       "            <tr>\n",
       "                        <th id=\"T_14a5e988_ce57_11ed_86b4_00155db69a9alevel0_row3\" class=\"row_heading level0 row3\" >15</th>\n",
       "                        <td id=\"T_14a5e988_ce57_11ed_86b4_00155db69a9arow3_col0\" class=\"data row3 col0\" >1.07e+04</td>\n",
       "                        <td id=\"T_14a5e988_ce57_11ed_86b4_00155db69a9arow3_col1\" class=\"data row3 col1\" >1.07e+04</td>\n",
       "                        <td id=\"T_14a5e988_ce57_11ed_86b4_00155db69a9arow3_col2\" class=\"data row3 col2\" >0.086</td>\n",
       "                        <td id=\"T_14a5e988_ce57_11ed_86b4_00155db69a9arow3_col3\" class=\"data row3 col3\" >0.084</td>\n",
       "            </tr>\n",
       "    </tbody></table>"
      ],
      "text/plain": [
       "<pandas.io.formats.style.Styler at 0x7f06f9877c10>"
      ]
     },
     "metadata": {},
     "output_type": "display_data"
    },
    {
     "name": "stdout",
     "output_type": "stream",
     "text": [
      "[\u001b[1mtardis.simulation.base\u001b[0m][\u001b[1;37mINFO\u001b[0m   ]  \n",
      "\t\n",
      "\tCurrent t_inner = 10642.050 K\n",
      "\tExpected t_inner for next iteration = 10636.106 K\n",
      " (\u001b[1mbase.py\u001b[0m:554)\n",
      "[\u001b[1mtardis.simulation.base\u001b[0m][\u001b[1;37mINFO\u001b[0m   ]  \n",
      "\t\n",
      "\tStarting iteration 9 of 20 (\u001b[1mbase.py\u001b[0m:385)\n",
      "[\u001b[1mtardis.simulation.base\u001b[0m][\u001b[1;37mINFO\u001b[0m   ]  \n",
      "\t\n",
      "\tLuminosity emitted   = 1.052e+43 erg / s\n",
      "\tLuminosity absorbed  = 3.411e+42 erg / s\n",
      "\tLuminosity requested = 1.059e+43 erg / s\n",
      " (\u001b[1mbase.py\u001b[0m:559)\n",
      "[\u001b[1mtardis.simulation.base\u001b[0m][\u001b[1;37mINFO\u001b[0m   ]  \n",
      "\tIteration converged 5/4 consecutive times. (\u001b[1mbase.py\u001b[0m:266)\n",
      "[\u001b[1mtardis.simulation.base\u001b[0m][\u001b[1;37mINFO\u001b[0m   ]  \n",
      "\t\n",
      "\tPlasma stratification: (\u001b[1mbase.py\u001b[0m:527)\n"
     ]
    },
    {
     "data": {
      "text/html": [
       "<style  type=\"text/css\" >\n",
       "</style><table id=\"T_16752f30_ce57_11ed_86b4_00155db69a9a\" ><thead>    <tr>        <th class=\"index_name level0\" >Shell No.</th>        <th class=\"col_heading level0 col0\" >t_rad</th>        <th class=\"col_heading level0 col1\" >next_t_rad</th>        <th class=\"col_heading level0 col2\" >w</th>        <th class=\"col_heading level0 col3\" >next_w</th>    </tr></thead><tbody>\n",
       "                <tr>\n",
       "                        <th id=\"T_16752f30_ce57_11ed_86b4_00155db69a9alevel0_row0\" class=\"row_heading level0 row0\" >0</th>\n",
       "                        <td id=\"T_16752f30_ce57_11ed_86b4_00155db69a9arow0_col0\" class=\"data row0 col0\" >1.11e+04</td>\n",
       "                        <td id=\"T_16752f30_ce57_11ed_86b4_00155db69a9arow0_col1\" class=\"data row0 col1\" >1.11e+04</td>\n",
       "                        <td id=\"T_16752f30_ce57_11ed_86b4_00155db69a9arow0_col2\" class=\"data row0 col2\" >0.472</td>\n",
       "                        <td id=\"T_16752f30_ce57_11ed_86b4_00155db69a9arow0_col3\" class=\"data row0 col3\" >0.469</td>\n",
       "            </tr>\n",
       "            <tr>\n",
       "                        <th id=\"T_16752f30_ce57_11ed_86b4_00155db69a9alevel0_row1\" class=\"row_heading level0 row1\" >5</th>\n",
       "                        <td id=\"T_16752f30_ce57_11ed_86b4_00155db69a9arow1_col0\" class=\"data row1 col0\" >1.14e+04</td>\n",
       "                        <td id=\"T_16752f30_ce57_11ed_86b4_00155db69a9arow1_col1\" class=\"data row1 col1\" >1.15e+04</td>\n",
       "                        <td id=\"T_16752f30_ce57_11ed_86b4_00155db69a9arow1_col2\" class=\"data row1 col2\" >0.175</td>\n",
       "                        <td id=\"T_16752f30_ce57_11ed_86b4_00155db69a9arow1_col3\" class=\"data row1 col3\" >0.17</td>\n",
       "            </tr>\n",
       "            <tr>\n",
       "                        <th id=\"T_16752f30_ce57_11ed_86b4_00155db69a9alevel0_row2\" class=\"row_heading level0 row2\" >10</th>\n",
       "                        <td id=\"T_16752f30_ce57_11ed_86b4_00155db69a9arow2_col0\" class=\"data row2 col0\" >1.11e+04</td>\n",
       "                        <td id=\"T_16752f30_ce57_11ed_86b4_00155db69a9arow2_col1\" class=\"data row2 col1\" >1.11e+04</td>\n",
       "                        <td id=\"T_16752f30_ce57_11ed_86b4_00155db69a9arow2_col2\" class=\"data row2 col2\" >0.111</td>\n",
       "                        <td id=\"T_16752f30_ce57_11ed_86b4_00155db69a9arow2_col3\" class=\"data row2 col3\" >0.109</td>\n",
       "            </tr>\n",
       "            <tr>\n",
       "                        <th id=\"T_16752f30_ce57_11ed_86b4_00155db69a9alevel0_row3\" class=\"row_heading level0 row3\" >15</th>\n",
       "                        <td id=\"T_16752f30_ce57_11ed_86b4_00155db69a9arow3_col0\" class=\"data row3 col0\" >1.07e+04</td>\n",
       "                        <td id=\"T_16752f30_ce57_11ed_86b4_00155db69a9arow3_col1\" class=\"data row3 col1\" >1.08e+04</td>\n",
       "                        <td id=\"T_16752f30_ce57_11ed_86b4_00155db69a9arow3_col2\" class=\"data row3 col2\" >0.084</td>\n",
       "                        <td id=\"T_16752f30_ce57_11ed_86b4_00155db69a9arow3_col3\" class=\"data row3 col3\" >0.0822</td>\n",
       "            </tr>\n",
       "    </tbody></table>"
      ],
      "text/plain": [
       "<pandas.io.formats.style.Styler at 0x7f06f76dd1f0>"
      ]
     },
     "metadata": {},
     "output_type": "display_data"
    },
    {
     "name": "stdout",
     "output_type": "stream",
     "text": [
      "[\u001b[1mtardis.simulation.base\u001b[0m][\u001b[1;37mINFO\u001b[0m   ]  \n",
      "\t\n",
      "\tCurrent t_inner = 10636.106 K\n",
      "\tExpected t_inner for next iteration = 10654.313 K\n",
      " (\u001b[1mbase.py\u001b[0m:554)\n",
      "[\u001b[1mtardis.simulation.base\u001b[0m][\u001b[1;37mINFO\u001b[0m   ]  \n",
      "\t\n",
      "\tStarting iteration 10 of 20 (\u001b[1mbase.py\u001b[0m:385)\n",
      "[\u001b[1mtardis.simulation.base\u001b[0m][\u001b[1;37mINFO\u001b[0m   ]  \n",
      "\t\n",
      "\tLuminosity emitted   = 1.070e+43 erg / s\n",
      "\tLuminosity absorbed  = 3.335e+42 erg / s\n",
      "\tLuminosity requested = 1.059e+43 erg / s\n",
      " (\u001b[1mbase.py\u001b[0m:559)\n",
      "[\u001b[1mtardis.simulation.base\u001b[0m][\u001b[1;37mINFO\u001b[0m   ]  \n",
      "\t\n",
      "\tPlasma stratification: (\u001b[1mbase.py\u001b[0m:527)\n"
     ]
    },
    {
     "data": {
      "text/html": [
       "<style  type=\"text/css\" >\n",
       "</style><table id=\"T_18364304_ce57_11ed_86b4_00155db69a9a\" ><thead>    <tr>        <th class=\"index_name level0\" >Shell No.</th>        <th class=\"col_heading level0 col0\" >t_rad</th>        <th class=\"col_heading level0 col1\" >next_t_rad</th>        <th class=\"col_heading level0 col2\" >w</th>        <th class=\"col_heading level0 col3\" >next_w</th>    </tr></thead><tbody>\n",
       "                <tr>\n",
       "                        <th id=\"T_18364304_ce57_11ed_86b4_00155db69a9alevel0_row0\" class=\"row_heading level0 row0\" >0</th>\n",
       "                        <td id=\"T_18364304_ce57_11ed_86b4_00155db69a9arow0_col0\" class=\"data row0 col0\" >1.11e+04</td>\n",
       "                        <td id=\"T_18364304_ce57_11ed_86b4_00155db69a9arow0_col1\" class=\"data row0 col1\" >1.1e+04</td>\n",
       "                        <td id=\"T_18364304_ce57_11ed_86b4_00155db69a9arow0_col2\" class=\"data row0 col2\" >0.469</td>\n",
       "                        <td id=\"T_18364304_ce57_11ed_86b4_00155db69a9arow0_col3\" class=\"data row0 col3\" >0.475</td>\n",
       "            </tr>\n",
       "            <tr>\n",
       "                        <th id=\"T_18364304_ce57_11ed_86b4_00155db69a9alevel0_row1\" class=\"row_heading level0 row1\" >5</th>\n",
       "                        <td id=\"T_18364304_ce57_11ed_86b4_00155db69a9arow1_col0\" class=\"data row1 col0\" >1.15e+04</td>\n",
       "                        <td id=\"T_18364304_ce57_11ed_86b4_00155db69a9arow1_col1\" class=\"data row1 col1\" >1.14e+04</td>\n",
       "                        <td id=\"T_18364304_ce57_11ed_86b4_00155db69a9arow1_col2\" class=\"data row1 col2\" >0.17</td>\n",
       "                        <td id=\"T_18364304_ce57_11ed_86b4_00155db69a9arow1_col3\" class=\"data row1 col3\" >0.177</td>\n",
       "            </tr>\n",
       "            <tr>\n",
       "                        <th id=\"T_18364304_ce57_11ed_86b4_00155db69a9alevel0_row2\" class=\"row_heading level0 row2\" >10</th>\n",
       "                        <td id=\"T_18364304_ce57_11ed_86b4_00155db69a9arow2_col0\" class=\"data row2 col0\" >1.11e+04</td>\n",
       "                        <td id=\"T_18364304_ce57_11ed_86b4_00155db69a9arow2_col1\" class=\"data row2 col1\" >1.11e+04</td>\n",
       "                        <td id=\"T_18364304_ce57_11ed_86b4_00155db69a9arow2_col2\" class=\"data row2 col2\" >0.109</td>\n",
       "                        <td id=\"T_18364304_ce57_11ed_86b4_00155db69a9arow2_col3\" class=\"data row2 col3\" >0.112</td>\n",
       "            </tr>\n",
       "            <tr>\n",
       "                        <th id=\"T_18364304_ce57_11ed_86b4_00155db69a9alevel0_row3\" class=\"row_heading level0 row3\" >15</th>\n",
       "                        <td id=\"T_18364304_ce57_11ed_86b4_00155db69a9arow3_col0\" class=\"data row3 col0\" >1.08e+04</td>\n",
       "                        <td id=\"T_18364304_ce57_11ed_86b4_00155db69a9arow3_col1\" class=\"data row3 col1\" >1.06e+04</td>\n",
       "                        <td id=\"T_18364304_ce57_11ed_86b4_00155db69a9arow3_col2\" class=\"data row3 col2\" >0.0822</td>\n",
       "                        <td id=\"T_18364304_ce57_11ed_86b4_00155db69a9arow3_col3\" class=\"data row3 col3\" >0.0878</td>\n",
       "            </tr>\n",
       "    </tbody></table>"
      ],
      "text/plain": [
       "<pandas.io.formats.style.Styler at 0x7f06f77bad00>"
      ]
     },
     "metadata": {},
     "output_type": "display_data"
    },
    {
     "name": "stdout",
     "output_type": "stream",
     "text": [
      "[\u001b[1mtardis.simulation.base\u001b[0m][\u001b[1;37mINFO\u001b[0m   ]  \n",
      "\t\n",
      "\tCurrent t_inner = 10654.313 K\n",
      "\tExpected t_inner for next iteration = 10628.190 K\n",
      " (\u001b[1mbase.py\u001b[0m:554)\n",
      "[\u001b[1mtardis.simulation.base\u001b[0m][\u001b[1;37mINFO\u001b[0m   ]  \n",
      "\t\n",
      "\tStarting iteration 11 of 20 (\u001b[1mbase.py\u001b[0m:385)\n",
      "[\u001b[1mtardis.simulation.base\u001b[0m][\u001b[1;37mINFO\u001b[0m   ]  \n",
      "\t\n",
      "\tLuminosity emitted   = 1.053e+43 erg / s\n",
      "\tLuminosity absorbed  = 3.363e+42 erg / s\n",
      "\tLuminosity requested = 1.059e+43 erg / s\n",
      " (\u001b[1mbase.py\u001b[0m:559)\n",
      "[\u001b[1mtardis.simulation.base\u001b[0m][\u001b[1;37mINFO\u001b[0m   ]  \n",
      "\tIteration converged 1/4 consecutive times. (\u001b[1mbase.py\u001b[0m:266)\n",
      "[\u001b[1mtardis.simulation.base\u001b[0m][\u001b[1;37mINFO\u001b[0m   ]  \n",
      "\t\n",
      "\tPlasma stratification: (\u001b[1mbase.py\u001b[0m:527)\n"
     ]
    },
    {
     "data": {
      "text/html": [
       "<style  type=\"text/css\" >\n",
       "</style><table id=\"T_19e43e0e_ce57_11ed_86b4_00155db69a9a\" ><thead>    <tr>        <th class=\"index_name level0\" >Shell No.</th>        <th class=\"col_heading level0 col0\" >t_rad</th>        <th class=\"col_heading level0 col1\" >next_t_rad</th>        <th class=\"col_heading level0 col2\" >w</th>        <th class=\"col_heading level0 col3\" >next_w</th>    </tr></thead><tbody>\n",
       "                <tr>\n",
       "                        <th id=\"T_19e43e0e_ce57_11ed_86b4_00155db69a9alevel0_row0\" class=\"row_heading level0 row0\" >0</th>\n",
       "                        <td id=\"T_19e43e0e_ce57_11ed_86b4_00155db69a9arow0_col0\" class=\"data row0 col0\" >1.1e+04</td>\n",
       "                        <td id=\"T_19e43e0e_ce57_11ed_86b4_00155db69a9arow0_col1\" class=\"data row0 col1\" >1.1e+04</td>\n",
       "                        <td id=\"T_19e43e0e_ce57_11ed_86b4_00155db69a9arow0_col2\" class=\"data row0 col2\" >0.475</td>\n",
       "                        <td id=\"T_19e43e0e_ce57_11ed_86b4_00155db69a9arow0_col3\" class=\"data row0 col3\" >0.472</td>\n",
       "            </tr>\n",
       "            <tr>\n",
       "                        <th id=\"T_19e43e0e_ce57_11ed_86b4_00155db69a9alevel0_row1\" class=\"row_heading level0 row1\" >5</th>\n",
       "                        <td id=\"T_19e43e0e_ce57_11ed_86b4_00155db69a9arow1_col0\" class=\"data row1 col0\" >1.14e+04</td>\n",
       "                        <td id=\"T_19e43e0e_ce57_11ed_86b4_00155db69a9arow1_col1\" class=\"data row1 col1\" >1.12e+04</td>\n",
       "                        <td id=\"T_19e43e0e_ce57_11ed_86b4_00155db69a9arow1_col2\" class=\"data row1 col2\" >0.177</td>\n",
       "                        <td id=\"T_19e43e0e_ce57_11ed_86b4_00155db69a9arow1_col3\" class=\"data row1 col3\" >0.184</td>\n",
       "            </tr>\n",
       "            <tr>\n",
       "                        <th id=\"T_19e43e0e_ce57_11ed_86b4_00155db69a9alevel0_row2\" class=\"row_heading level0 row2\" >10</th>\n",
       "                        <td id=\"T_19e43e0e_ce57_11ed_86b4_00155db69a9arow2_col0\" class=\"data row2 col0\" >1.11e+04</td>\n",
       "                        <td id=\"T_19e43e0e_ce57_11ed_86b4_00155db69a9arow2_col1\" class=\"data row2 col1\" >1.1e+04</td>\n",
       "                        <td id=\"T_19e43e0e_ce57_11ed_86b4_00155db69a9arow2_col2\" class=\"data row2 col2\" >0.112</td>\n",
       "                        <td id=\"T_19e43e0e_ce57_11ed_86b4_00155db69a9arow2_col3\" class=\"data row2 col3\" >0.114</td>\n",
       "            </tr>\n",
       "            <tr>\n",
       "                        <th id=\"T_19e43e0e_ce57_11ed_86b4_00155db69a9alevel0_row3\" class=\"row_heading level0 row3\" >15</th>\n",
       "                        <td id=\"T_19e43e0e_ce57_11ed_86b4_00155db69a9arow3_col0\" class=\"data row3 col0\" >1.06e+04</td>\n",
       "                        <td id=\"T_19e43e0e_ce57_11ed_86b4_00155db69a9arow3_col1\" class=\"data row3 col1\" >1.06e+04</td>\n",
       "                        <td id=\"T_19e43e0e_ce57_11ed_86b4_00155db69a9arow3_col2\" class=\"data row3 col2\" >0.0878</td>\n",
       "                        <td id=\"T_19e43e0e_ce57_11ed_86b4_00155db69a9arow3_col3\" class=\"data row3 col3\" >0.0859</td>\n",
       "            </tr>\n",
       "    </tbody></table>"
      ],
      "text/plain": [
       "<pandas.io.formats.style.Styler at 0x7f06f77bac10>"
      ]
     },
     "metadata": {},
     "output_type": "display_data"
    },
    {
     "name": "stdout",
     "output_type": "stream",
     "text": [
      "[\u001b[1mtardis.simulation.base\u001b[0m][\u001b[1;37mINFO\u001b[0m   ]  \n",
      "\t\n",
      "\tCurrent t_inner = 10628.190 K\n",
      "\tExpected t_inner for next iteration = 10644.054 K\n",
      " (\u001b[1mbase.py\u001b[0m:554)\n",
      "[\u001b[1mtardis.simulation.base\u001b[0m][\u001b[1;37mINFO\u001b[0m   ]  \n",
      "\t\n",
      "\tStarting iteration 12 of 20 (\u001b[1mbase.py\u001b[0m:385)\n",
      "[\u001b[1mtardis.simulation.base\u001b[0m][\u001b[1;37mINFO\u001b[0m   ]  \n",
      "\t\n",
      "\tLuminosity emitted   = 1.056e+43 erg / s\n",
      "\tLuminosity absorbed  = 3.420e+42 erg / s\n",
      "\tLuminosity requested = 1.059e+43 erg / s\n",
      " (\u001b[1mbase.py\u001b[0m:559)\n",
      "[\u001b[1mtardis.simulation.base\u001b[0m][\u001b[1;37mINFO\u001b[0m   ]  \n",
      "\t\n",
      "\tPlasma stratification: (\u001b[1mbase.py\u001b[0m:527)\n"
     ]
    },
    {
     "data": {
      "text/html": [
       "<style  type=\"text/css\" >\n",
       "</style><table id=\"T_1b7665b2_ce57_11ed_86b4_00155db69a9a\" ><thead>    <tr>        <th class=\"index_name level0\" >Shell No.</th>        <th class=\"col_heading level0 col0\" >t_rad</th>        <th class=\"col_heading level0 col1\" >next_t_rad</th>        <th class=\"col_heading level0 col2\" >w</th>        <th class=\"col_heading level0 col3\" >next_w</th>    </tr></thead><tbody>\n",
       "                <tr>\n",
       "                        <th id=\"T_1b7665b2_ce57_11ed_86b4_00155db69a9alevel0_row0\" class=\"row_heading level0 row0\" >0</th>\n",
       "                        <td id=\"T_1b7665b2_ce57_11ed_86b4_00155db69a9arow0_col0\" class=\"data row0 col0\" >1.1e+04</td>\n",
       "                        <td id=\"T_1b7665b2_ce57_11ed_86b4_00155db69a9arow0_col1\" class=\"data row0 col1\" >1.11e+04</td>\n",
       "                        <td id=\"T_1b7665b2_ce57_11ed_86b4_00155db69a9arow0_col2\" class=\"data row0 col2\" >0.472</td>\n",
       "                        <td id=\"T_1b7665b2_ce57_11ed_86b4_00155db69a9arow0_col3\" class=\"data row0 col3\" >0.467</td>\n",
       "            </tr>\n",
       "            <tr>\n",
       "                        <th id=\"T_1b7665b2_ce57_11ed_86b4_00155db69a9alevel0_row1\" class=\"row_heading level0 row1\" >5</th>\n",
       "                        <td id=\"T_1b7665b2_ce57_11ed_86b4_00155db69a9arow1_col0\" class=\"data row1 col0\" >1.12e+04</td>\n",
       "                        <td id=\"T_1b7665b2_ce57_11ed_86b4_00155db69a9arow1_col1\" class=\"data row1 col1\" >1.13e+04</td>\n",
       "                        <td id=\"T_1b7665b2_ce57_11ed_86b4_00155db69a9arow1_col2\" class=\"data row1 col2\" >0.184</td>\n",
       "                        <td id=\"T_1b7665b2_ce57_11ed_86b4_00155db69a9arow1_col3\" class=\"data row1 col3\" >0.176</td>\n",
       "            </tr>\n",
       "            <tr>\n",
       "                        <th id=\"T_1b7665b2_ce57_11ed_86b4_00155db69a9alevel0_row2\" class=\"row_heading level0 row2\" >10</th>\n",
       "                        <td id=\"T_1b7665b2_ce57_11ed_86b4_00155db69a9arow2_col0\" class=\"data row2 col0\" >1.1e+04</td>\n",
       "                        <td id=\"T_1b7665b2_ce57_11ed_86b4_00155db69a9arow2_col1\" class=\"data row2 col1\" >1.11e+04</td>\n",
       "                        <td id=\"T_1b7665b2_ce57_11ed_86b4_00155db69a9arow2_col2\" class=\"data row2 col2\" >0.114</td>\n",
       "                        <td id=\"T_1b7665b2_ce57_11ed_86b4_00155db69a9arow2_col3\" class=\"data row2 col3\" >0.11</td>\n",
       "            </tr>\n",
       "            <tr>\n",
       "                        <th id=\"T_1b7665b2_ce57_11ed_86b4_00155db69a9alevel0_row3\" class=\"row_heading level0 row3\" >15</th>\n",
       "                        <td id=\"T_1b7665b2_ce57_11ed_86b4_00155db69a9arow3_col0\" class=\"data row3 col0\" >1.06e+04</td>\n",
       "                        <td id=\"T_1b7665b2_ce57_11ed_86b4_00155db69a9arow3_col1\" class=\"data row3 col1\" >1.08e+04</td>\n",
       "                        <td id=\"T_1b7665b2_ce57_11ed_86b4_00155db69a9arow3_col2\" class=\"data row3 col2\" >0.0859</td>\n",
       "                        <td id=\"T_1b7665b2_ce57_11ed_86b4_00155db69a9arow3_col3\" class=\"data row3 col3\" >0.0821</td>\n",
       "            </tr>\n",
       "    </tbody></table>"
      ],
      "text/plain": [
       "<pandas.io.formats.style.Styler at 0x7f06f743db20>"
      ]
     },
     "metadata": {},
     "output_type": "display_data"
    },
    {
     "name": "stdout",
     "output_type": "stream",
     "text": [
      "[\u001b[1mtardis.simulation.base\u001b[0m][\u001b[1;37mINFO\u001b[0m   ]  \n",
      "\t\n",
      "\tCurrent t_inner = 10644.054 K\n",
      "\tExpected t_inner for next iteration = 10653.543 K\n",
      " (\u001b[1mbase.py\u001b[0m:554)\n",
      "[\u001b[1mtardis.simulation.base\u001b[0m][\u001b[1;37mINFO\u001b[0m   ]  \n",
      "\t\n",
      "\tStarting iteration 13 of 20 (\u001b[1mbase.py\u001b[0m:385)\n",
      "[\u001b[1mtardis.simulation.base\u001b[0m][\u001b[1;37mINFO\u001b[0m   ]  \n",
      "\t\n",
      "\tLuminosity emitted   = 1.062e+43 erg / s\n",
      "\tLuminosity absorbed  = 3.406e+42 erg / s\n",
      "\tLuminosity requested = 1.059e+43 erg / s\n",
      " (\u001b[1mbase.py\u001b[0m:559)\n",
      "[\u001b[1mtardis.simulation.base\u001b[0m][\u001b[1;37mINFO\u001b[0m   ]  \n",
      "\tIteration converged 1/4 consecutive times. (\u001b[1mbase.py\u001b[0m:266)\n",
      "[\u001b[1mtardis.simulation.base\u001b[0m][\u001b[1;37mINFO\u001b[0m   ]  \n",
      "\t\n",
      "\tPlasma stratification: (\u001b[1mbase.py\u001b[0m:527)\n"
     ]
    },
    {
     "data": {
      "text/html": [
       "<style  type=\"text/css\" >\n",
       "</style><table id=\"T_1d149a7e_ce57_11ed_86b4_00155db69a9a\" ><thead>    <tr>        <th class=\"index_name level0\" >Shell No.</th>        <th class=\"col_heading level0 col0\" >t_rad</th>        <th class=\"col_heading level0 col1\" >next_t_rad</th>        <th class=\"col_heading level0 col2\" >w</th>        <th class=\"col_heading level0 col3\" >next_w</th>    </tr></thead><tbody>\n",
       "                <tr>\n",
       "                        <th id=\"T_1d149a7e_ce57_11ed_86b4_00155db69a9alevel0_row0\" class=\"row_heading level0 row0\" >0</th>\n",
       "                        <td id=\"T_1d149a7e_ce57_11ed_86b4_00155db69a9arow0_col0\" class=\"data row0 col0\" >1.11e+04</td>\n",
       "                        <td id=\"T_1d149a7e_ce57_11ed_86b4_00155db69a9arow0_col1\" class=\"data row0 col1\" >1.11e+04</td>\n",
       "                        <td id=\"T_1d149a7e_ce57_11ed_86b4_00155db69a9arow0_col2\" class=\"data row0 col2\" >0.467</td>\n",
       "                        <td id=\"T_1d149a7e_ce57_11ed_86b4_00155db69a9arow0_col3\" class=\"data row0 col3\" >0.466</td>\n",
       "            </tr>\n",
       "            <tr>\n",
       "                        <th id=\"T_1d149a7e_ce57_11ed_86b4_00155db69a9alevel0_row1\" class=\"row_heading level0 row1\" >5</th>\n",
       "                        <td id=\"T_1d149a7e_ce57_11ed_86b4_00155db69a9arow1_col0\" class=\"data row1 col0\" >1.13e+04</td>\n",
       "                        <td id=\"T_1d149a7e_ce57_11ed_86b4_00155db69a9arow1_col1\" class=\"data row1 col1\" >1.13e+04</td>\n",
       "                        <td id=\"T_1d149a7e_ce57_11ed_86b4_00155db69a9arow1_col2\" class=\"data row1 col2\" >0.176</td>\n",
       "                        <td id=\"T_1d149a7e_ce57_11ed_86b4_00155db69a9arow1_col3\" class=\"data row1 col3\" >0.18</td>\n",
       "            </tr>\n",
       "            <tr>\n",
       "                        <th id=\"T_1d149a7e_ce57_11ed_86b4_00155db69a9alevel0_row2\" class=\"row_heading level0 row2\" >10</th>\n",
       "                        <td id=\"T_1d149a7e_ce57_11ed_86b4_00155db69a9arow2_col0\" class=\"data row2 col0\" >1.11e+04</td>\n",
       "                        <td id=\"T_1d149a7e_ce57_11ed_86b4_00155db69a9arow2_col1\" class=\"data row2 col1\" >1.11e+04</td>\n",
       "                        <td id=\"T_1d149a7e_ce57_11ed_86b4_00155db69a9arow2_col2\" class=\"data row2 col2\" >0.11</td>\n",
       "                        <td id=\"T_1d149a7e_ce57_11ed_86b4_00155db69a9arow2_col3\" class=\"data row2 col3\" >0.111</td>\n",
       "            </tr>\n",
       "            <tr>\n",
       "                        <th id=\"T_1d149a7e_ce57_11ed_86b4_00155db69a9alevel0_row3\" class=\"row_heading level0 row3\" >15</th>\n",
       "                        <td id=\"T_1d149a7e_ce57_11ed_86b4_00155db69a9arow3_col0\" class=\"data row3 col0\" >1.08e+04</td>\n",
       "                        <td id=\"T_1d149a7e_ce57_11ed_86b4_00155db69a9arow3_col1\" class=\"data row3 col1\" >1.08e+04</td>\n",
       "                        <td id=\"T_1d149a7e_ce57_11ed_86b4_00155db69a9arow3_col2\" class=\"data row3 col2\" >0.0821</td>\n",
       "                        <td id=\"T_1d149a7e_ce57_11ed_86b4_00155db69a9arow3_col3\" class=\"data row3 col3\" >0.0841</td>\n",
       "            </tr>\n",
       "    </tbody></table>"
      ],
      "text/plain": [
       "<pandas.io.formats.style.Styler at 0x7f0754c116d0>"
      ]
     },
     "metadata": {},
     "output_type": "display_data"
    },
    {
     "name": "stdout",
     "output_type": "stream",
     "text": [
      "[\u001b[1mtardis.simulation.base\u001b[0m][\u001b[1;37mINFO\u001b[0m   ]  \n",
      "\t\n",
      "\tCurrent t_inner = 10653.543 K\n",
      "\tExpected t_inner for next iteration = 10647.277 K\n",
      " (\u001b[1mbase.py\u001b[0m:554)\n",
      "[\u001b[1mtardis.simulation.base\u001b[0m][\u001b[1;37mINFO\u001b[0m   ]  \n",
      "\t\n",
      "\tStarting iteration 14 of 20 (\u001b[1mbase.py\u001b[0m:385)\n",
      "[\u001b[1mtardis.simulation.base\u001b[0m][\u001b[1;37mINFO\u001b[0m   ]  \n",
      "\t\n",
      "\tLuminosity emitted   = 1.063e+43 erg / s\n",
      "\tLuminosity absorbed  = 3.369e+42 erg / s\n",
      "\tLuminosity requested = 1.059e+43 erg / s\n",
      " (\u001b[1mbase.py\u001b[0m:559)\n",
      "[\u001b[1mtardis.simulation.base\u001b[0m][\u001b[1;37mINFO\u001b[0m   ]  \n",
      "\tIteration converged 2/4 consecutive times. (\u001b[1mbase.py\u001b[0m:266)\n",
      "[\u001b[1mtardis.simulation.base\u001b[0m][\u001b[1;37mINFO\u001b[0m   ]  \n",
      "\t\n",
      "\tPlasma stratification: (\u001b[1mbase.py\u001b[0m:527)\n"
     ]
    },
    {
     "data": {
      "text/html": [
       "<style  type=\"text/css\" >\n",
       "</style><table id=\"T_1f375cd8_ce57_11ed_86b4_00155db69a9a\" ><thead>    <tr>        <th class=\"index_name level0\" >Shell No.</th>        <th class=\"col_heading level0 col0\" >t_rad</th>        <th class=\"col_heading level0 col1\" >next_t_rad</th>        <th class=\"col_heading level0 col2\" >w</th>        <th class=\"col_heading level0 col3\" >next_w</th>    </tr></thead><tbody>\n",
       "                <tr>\n",
       "                        <th id=\"T_1f375cd8_ce57_11ed_86b4_00155db69a9alevel0_row0\" class=\"row_heading level0 row0\" >0</th>\n",
       "                        <td id=\"T_1f375cd8_ce57_11ed_86b4_00155db69a9arow0_col0\" class=\"data row0 col0\" >1.11e+04</td>\n",
       "                        <td id=\"T_1f375cd8_ce57_11ed_86b4_00155db69a9arow0_col1\" class=\"data row0 col1\" >1.11e+04</td>\n",
       "                        <td id=\"T_1f375cd8_ce57_11ed_86b4_00155db69a9arow0_col2\" class=\"data row0 col2\" >0.466</td>\n",
       "                        <td id=\"T_1f375cd8_ce57_11ed_86b4_00155db69a9arow0_col3\" class=\"data row0 col3\" >0.469</td>\n",
       "            </tr>\n",
       "            <tr>\n",
       "                        <th id=\"T_1f375cd8_ce57_11ed_86b4_00155db69a9alevel0_row1\" class=\"row_heading level0 row1\" >5</th>\n",
       "                        <td id=\"T_1f375cd8_ce57_11ed_86b4_00155db69a9arow1_col0\" class=\"data row1 col0\" >1.13e+04</td>\n",
       "                        <td id=\"T_1f375cd8_ce57_11ed_86b4_00155db69a9arow1_col1\" class=\"data row1 col1\" >1.13e+04</td>\n",
       "                        <td id=\"T_1f375cd8_ce57_11ed_86b4_00155db69a9arow1_col2\" class=\"data row1 col2\" >0.18</td>\n",
       "                        <td id=\"T_1f375cd8_ce57_11ed_86b4_00155db69a9arow1_col3\" class=\"data row1 col3\" >0.182</td>\n",
       "            </tr>\n",
       "            <tr>\n",
       "                        <th id=\"T_1f375cd8_ce57_11ed_86b4_00155db69a9alevel0_row2\" class=\"row_heading level0 row2\" >10</th>\n",
       "                        <td id=\"T_1f375cd8_ce57_11ed_86b4_00155db69a9arow2_col0\" class=\"data row2 col0\" >1.11e+04</td>\n",
       "                        <td id=\"T_1f375cd8_ce57_11ed_86b4_00155db69a9arow2_col1\" class=\"data row2 col1\" >1.1e+04</td>\n",
       "                        <td id=\"T_1f375cd8_ce57_11ed_86b4_00155db69a9arow2_col2\" class=\"data row2 col2\" >0.111</td>\n",
       "                        <td id=\"T_1f375cd8_ce57_11ed_86b4_00155db69a9arow2_col3\" class=\"data row2 col3\" >0.113</td>\n",
       "            </tr>\n",
       "            <tr>\n",
       "                        <th id=\"T_1f375cd8_ce57_11ed_86b4_00155db69a9alevel0_row3\" class=\"row_heading level0 row3\" >15</th>\n",
       "                        <td id=\"T_1f375cd8_ce57_11ed_86b4_00155db69a9arow3_col0\" class=\"data row3 col0\" >1.08e+04</td>\n",
       "                        <td id=\"T_1f375cd8_ce57_11ed_86b4_00155db69a9arow3_col1\" class=\"data row3 col1\" >1.07e+04</td>\n",
       "                        <td id=\"T_1f375cd8_ce57_11ed_86b4_00155db69a9arow3_col2\" class=\"data row3 col2\" >0.0841</td>\n",
       "                        <td id=\"T_1f375cd8_ce57_11ed_86b4_00155db69a9arow3_col3\" class=\"data row3 col3\" >0.0854</td>\n",
       "            </tr>\n",
       "    </tbody></table>"
      ],
      "text/plain": [
       "<pandas.io.formats.style.Styler at 0x7f06f7160b20>"
      ]
     },
     "metadata": {},
     "output_type": "display_data"
    },
    {
     "name": "stdout",
     "output_type": "stream",
     "text": [
      "[\u001b[1mtardis.simulation.base\u001b[0m][\u001b[1;37mINFO\u001b[0m   ]  \n",
      "\t\n",
      "\tCurrent t_inner = 10647.277 K\n",
      "\tExpected t_inner for next iteration = 10638.875 K\n",
      " (\u001b[1mbase.py\u001b[0m:554)\n",
      "[\u001b[1mtardis.simulation.base\u001b[0m][\u001b[1;37mINFO\u001b[0m   ]  \n",
      "\t\n",
      "\tStarting iteration 15 of 20 (\u001b[1mbase.py\u001b[0m:385)\n",
      "[\u001b[1mtardis.simulation.base\u001b[0m][\u001b[1;37mINFO\u001b[0m   ]  \n",
      "\t\n",
      "\tLuminosity emitted   = 1.053e+43 erg / s\n",
      "\tLuminosity absorbed  = 3.417e+42 erg / s\n",
      "\tLuminosity requested = 1.059e+43 erg / s\n",
      " (\u001b[1mbase.py\u001b[0m:559)\n",
      "[\u001b[1mtardis.simulation.base\u001b[0m][\u001b[1;37mINFO\u001b[0m   ]  \n",
      "\tIteration converged 3/4 consecutive times. (\u001b[1mbase.py\u001b[0m:266)\n",
      "[\u001b[1mtardis.simulation.base\u001b[0m][\u001b[1;37mINFO\u001b[0m   ]  \n",
      "\t\n",
      "\tPlasma stratification: (\u001b[1mbase.py\u001b[0m:527)\n"
     ]
    },
    {
     "data": {
      "text/html": [
       "<style  type=\"text/css\" >\n",
       "</style><table id=\"T_20d60cd8_ce57_11ed_86b4_00155db69a9a\" ><thead>    <tr>        <th class=\"index_name level0\" >Shell No.</th>        <th class=\"col_heading level0 col0\" >t_rad</th>        <th class=\"col_heading level0 col1\" >next_t_rad</th>        <th class=\"col_heading level0 col2\" >w</th>        <th class=\"col_heading level0 col3\" >next_w</th>    </tr></thead><tbody>\n",
       "                <tr>\n",
       "                        <th id=\"T_20d60cd8_ce57_11ed_86b4_00155db69a9alevel0_row0\" class=\"row_heading level0 row0\" >0</th>\n",
       "                        <td id=\"T_20d60cd8_ce57_11ed_86b4_00155db69a9arow0_col0\" class=\"data row0 col0\" >1.11e+04</td>\n",
       "                        <td id=\"T_20d60cd8_ce57_11ed_86b4_00155db69a9arow0_col1\" class=\"data row0 col1\" >1.1e+04</td>\n",
       "                        <td id=\"T_20d60cd8_ce57_11ed_86b4_00155db69a9arow0_col2\" class=\"data row0 col2\" >0.469</td>\n",
       "                        <td id=\"T_20d60cd8_ce57_11ed_86b4_00155db69a9arow0_col3\" class=\"data row0 col3\" >0.484</td>\n",
       "            </tr>\n",
       "            <tr>\n",
       "                        <th id=\"T_20d60cd8_ce57_11ed_86b4_00155db69a9alevel0_row1\" class=\"row_heading level0 row1\" >5</th>\n",
       "                        <td id=\"T_20d60cd8_ce57_11ed_86b4_00155db69a9arow1_col0\" class=\"data row1 col0\" >1.13e+04</td>\n",
       "                        <td id=\"T_20d60cd8_ce57_11ed_86b4_00155db69a9arow1_col1\" class=\"data row1 col1\" >1.13e+04</td>\n",
       "                        <td id=\"T_20d60cd8_ce57_11ed_86b4_00155db69a9arow1_col2\" class=\"data row1 col2\" >0.182</td>\n",
       "                        <td id=\"T_20d60cd8_ce57_11ed_86b4_00155db69a9arow1_col3\" class=\"data row1 col3\" >0.181</td>\n",
       "            </tr>\n",
       "            <tr>\n",
       "                        <th id=\"T_20d60cd8_ce57_11ed_86b4_00155db69a9alevel0_row2\" class=\"row_heading level0 row2\" >10</th>\n",
       "                        <td id=\"T_20d60cd8_ce57_11ed_86b4_00155db69a9arow2_col0\" class=\"data row2 col0\" >1.1e+04</td>\n",
       "                        <td id=\"T_20d60cd8_ce57_11ed_86b4_00155db69a9arow2_col1\" class=\"data row2 col1\" >1.1e+04</td>\n",
       "                        <td id=\"T_20d60cd8_ce57_11ed_86b4_00155db69a9arow2_col2\" class=\"data row2 col2\" >0.113</td>\n",
       "                        <td id=\"T_20d60cd8_ce57_11ed_86b4_00155db69a9arow2_col3\" class=\"data row2 col3\" >0.113</td>\n",
       "            </tr>\n",
       "            <tr>\n",
       "                        <th id=\"T_20d60cd8_ce57_11ed_86b4_00155db69a9alevel0_row3\" class=\"row_heading level0 row3\" >15</th>\n",
       "                        <td id=\"T_20d60cd8_ce57_11ed_86b4_00155db69a9arow3_col0\" class=\"data row3 col0\" >1.07e+04</td>\n",
       "                        <td id=\"T_20d60cd8_ce57_11ed_86b4_00155db69a9arow3_col1\" class=\"data row3 col1\" >1.07e+04</td>\n",
       "                        <td id=\"T_20d60cd8_ce57_11ed_86b4_00155db69a9arow3_col2\" class=\"data row3 col2\" >0.0854</td>\n",
       "                        <td id=\"T_20d60cd8_ce57_11ed_86b4_00155db69a9arow3_col3\" class=\"data row3 col3\" >0.0858</td>\n",
       "            </tr>\n",
       "    </tbody></table>"
      ],
      "text/plain": [
       "<pandas.io.formats.style.Styler at 0x7f06f98771f0>"
      ]
     },
     "metadata": {},
     "output_type": "display_data"
    },
    {
     "name": "stdout",
     "output_type": "stream",
     "text": [
      "[\u001b[1mtardis.simulation.base\u001b[0m][\u001b[1;37mINFO\u001b[0m   ]  \n",
      "\t\n",
      "\tCurrent t_inner = 10638.875 K\n",
      "\tExpected t_inner for next iteration = 10655.125 K\n",
      " (\u001b[1mbase.py\u001b[0m:554)\n",
      "[\u001b[1mtardis.simulation.base\u001b[0m][\u001b[1;37mINFO\u001b[0m   ]  \n",
      "\t\n",
      "\tStarting iteration 16 of 20 (\u001b[1mbase.py\u001b[0m:385)\n",
      "[\u001b[1mtardis.simulation.base\u001b[0m][\u001b[1;37mINFO\u001b[0m   ]  \n",
      "\t\n",
      "\tLuminosity emitted   = 1.059e+43 erg / s\n",
      "\tLuminosity absorbed  = 3.445e+42 erg / s\n",
      "\tLuminosity requested = 1.059e+43 erg / s\n",
      " (\u001b[1mbase.py\u001b[0m:559)\n",
      "[\u001b[1mtardis.simulation.base\u001b[0m][\u001b[1;37mINFO\u001b[0m   ]  \n",
      "\tIteration converged 4/4 consecutive times. (\u001b[1mbase.py\u001b[0m:266)\n",
      "[\u001b[1mtardis.simulation.base\u001b[0m][\u001b[1;37mINFO\u001b[0m   ]  \n",
      "\t\n",
      "\tPlasma stratification: (\u001b[1mbase.py\u001b[0m:527)\n"
     ]
    },
    {
     "data": {
      "text/html": [
       "<style  type=\"text/css\" >\n",
       "</style><table id=\"T_22cffa6c_ce57_11ed_86b4_00155db69a9a\" ><thead>    <tr>        <th class=\"index_name level0\" >Shell No.</th>        <th class=\"col_heading level0 col0\" >t_rad</th>        <th class=\"col_heading level0 col1\" >next_t_rad</th>        <th class=\"col_heading level0 col2\" >w</th>        <th class=\"col_heading level0 col3\" >next_w</th>    </tr></thead><tbody>\n",
       "                <tr>\n",
       "                        <th id=\"T_22cffa6c_ce57_11ed_86b4_00155db69a9alevel0_row0\" class=\"row_heading level0 row0\" >0</th>\n",
       "                        <td id=\"T_22cffa6c_ce57_11ed_86b4_00155db69a9arow0_col0\" class=\"data row0 col0\" >1.1e+04</td>\n",
       "                        <td id=\"T_22cffa6c_ce57_11ed_86b4_00155db69a9arow0_col1\" class=\"data row0 col1\" >1.1e+04</td>\n",
       "                        <td id=\"T_22cffa6c_ce57_11ed_86b4_00155db69a9arow0_col2\" class=\"data row0 col2\" >0.484</td>\n",
       "                        <td id=\"T_22cffa6c_ce57_11ed_86b4_00155db69a9arow0_col3\" class=\"data row0 col3\" >0.472</td>\n",
       "            </tr>\n",
       "            <tr>\n",
       "                        <th id=\"T_22cffa6c_ce57_11ed_86b4_00155db69a9alevel0_row1\" class=\"row_heading level0 row1\" >5</th>\n",
       "                        <td id=\"T_22cffa6c_ce57_11ed_86b4_00155db69a9arow1_col0\" class=\"data row1 col0\" >1.13e+04</td>\n",
       "                        <td id=\"T_22cffa6c_ce57_11ed_86b4_00155db69a9arow1_col1\" class=\"data row1 col1\" >1.13e+04</td>\n",
       "                        <td id=\"T_22cffa6c_ce57_11ed_86b4_00155db69a9arow1_col2\" class=\"data row1 col2\" >0.181</td>\n",
       "                        <td id=\"T_22cffa6c_ce57_11ed_86b4_00155db69a9arow1_col3\" class=\"data row1 col3\" >0.177</td>\n",
       "            </tr>\n",
       "            <tr>\n",
       "                        <th id=\"T_22cffa6c_ce57_11ed_86b4_00155db69a9alevel0_row2\" class=\"row_heading level0 row2\" >10</th>\n",
       "                        <td id=\"T_22cffa6c_ce57_11ed_86b4_00155db69a9arow2_col0\" class=\"data row2 col0\" >1.1e+04</td>\n",
       "                        <td id=\"T_22cffa6c_ce57_11ed_86b4_00155db69a9arow2_col1\" class=\"data row2 col1\" >1.1e+04</td>\n",
       "                        <td id=\"T_22cffa6c_ce57_11ed_86b4_00155db69a9arow2_col2\" class=\"data row2 col2\" >0.113</td>\n",
       "                        <td id=\"T_22cffa6c_ce57_11ed_86b4_00155db69a9arow2_col3\" class=\"data row2 col3\" >0.113</td>\n",
       "            </tr>\n",
       "            <tr>\n",
       "                        <th id=\"T_22cffa6c_ce57_11ed_86b4_00155db69a9alevel0_row3\" class=\"row_heading level0 row3\" >15</th>\n",
       "                        <td id=\"T_22cffa6c_ce57_11ed_86b4_00155db69a9arow3_col0\" class=\"data row3 col0\" >1.07e+04</td>\n",
       "                        <td id=\"T_22cffa6c_ce57_11ed_86b4_00155db69a9arow3_col1\" class=\"data row3 col1\" >1.06e+04</td>\n",
       "                        <td id=\"T_22cffa6c_ce57_11ed_86b4_00155db69a9arow3_col2\" class=\"data row3 col2\" >0.0858</td>\n",
       "                        <td id=\"T_22cffa6c_ce57_11ed_86b4_00155db69a9arow3_col3\" class=\"data row3 col3\" >0.0858</td>\n",
       "            </tr>\n",
       "    </tbody></table>"
      ],
      "text/plain": [
       "<pandas.io.formats.style.Styler at 0x7f06f743d8e0>"
      ]
     },
     "metadata": {},
     "output_type": "display_data"
    },
    {
     "name": "stdout",
     "output_type": "stream",
     "text": [
      "[\u001b[1mtardis.simulation.base\u001b[0m][\u001b[1;37mINFO\u001b[0m   ]  \n",
      "\t\n",
      "\tCurrent t_inner = 10655.125 K\n",
      "\tExpected t_inner for next iteration = 10655.561 K\n",
      " (\u001b[1mbase.py\u001b[0m:554)\n",
      "[\u001b[1mtardis.simulation.base\u001b[0m][\u001b[1;37mINFO\u001b[0m   ]  \n",
      "\t\n",
      "\tStarting iteration 17 of 20 (\u001b[1mbase.py\u001b[0m:385)\n",
      "[\u001b[1mtardis.simulation.base\u001b[0m][\u001b[1;37mINFO\u001b[0m   ]  \n",
      "\t\n",
      "\tLuminosity emitted   = 1.067e+43 erg / s\n",
      "\tLuminosity absorbed  = 3.372e+42 erg / s\n",
      "\tLuminosity requested = 1.059e+43 erg / s\n",
      " (\u001b[1mbase.py\u001b[0m:559)\n",
      "[\u001b[1mtardis.simulation.base\u001b[0m][\u001b[1;37mINFO\u001b[0m   ]  \n",
      "\t\n",
      "\tPlasma stratification: (\u001b[1mbase.py\u001b[0m:527)\n"
     ]
    },
    {
     "data": {
      "text/html": [
       "<style  type=\"text/css\" >\n",
       "</style><table id=\"T_24cbbefa_ce57_11ed_86b4_00155db69a9a\" ><thead>    <tr>        <th class=\"index_name level0\" >Shell No.</th>        <th class=\"col_heading level0 col0\" >t_rad</th>        <th class=\"col_heading level0 col1\" >next_t_rad</th>        <th class=\"col_heading level0 col2\" >w</th>        <th class=\"col_heading level0 col3\" >next_w</th>    </tr></thead><tbody>\n",
       "                <tr>\n",
       "                        <th id=\"T_24cbbefa_ce57_11ed_86b4_00155db69a9alevel0_row0\" class=\"row_heading level0 row0\" >0</th>\n",
       "                        <td id=\"T_24cbbefa_ce57_11ed_86b4_00155db69a9arow0_col0\" class=\"data row0 col0\" >1.1e+04</td>\n",
       "                        <td id=\"T_24cbbefa_ce57_11ed_86b4_00155db69a9arow0_col1\" class=\"data row0 col1\" >1.11e+04</td>\n",
       "                        <td id=\"T_24cbbefa_ce57_11ed_86b4_00155db69a9arow0_col2\" class=\"data row0 col2\" >0.472</td>\n",
       "                        <td id=\"T_24cbbefa_ce57_11ed_86b4_00155db69a9arow0_col3\" class=\"data row0 col3\" >0.468</td>\n",
       "            </tr>\n",
       "            <tr>\n",
       "                        <th id=\"T_24cbbefa_ce57_11ed_86b4_00155db69a9alevel0_row1\" class=\"row_heading level0 row1\" >5</th>\n",
       "                        <td id=\"T_24cbbefa_ce57_11ed_86b4_00155db69a9arow1_col0\" class=\"data row1 col0\" >1.13e+04</td>\n",
       "                        <td id=\"T_24cbbefa_ce57_11ed_86b4_00155db69a9arow1_col1\" class=\"data row1 col1\" >1.14e+04</td>\n",
       "                        <td id=\"T_24cbbefa_ce57_11ed_86b4_00155db69a9arow1_col2\" class=\"data row1 col2\" >0.177</td>\n",
       "                        <td id=\"T_24cbbefa_ce57_11ed_86b4_00155db69a9arow1_col3\" class=\"data row1 col3\" >0.175</td>\n",
       "            </tr>\n",
       "            <tr>\n",
       "                        <th id=\"T_24cbbefa_ce57_11ed_86b4_00155db69a9alevel0_row2\" class=\"row_heading level0 row2\" >10</th>\n",
       "                        <td id=\"T_24cbbefa_ce57_11ed_86b4_00155db69a9arow2_col0\" class=\"data row2 col0\" >1.1e+04</td>\n",
       "                        <td id=\"T_24cbbefa_ce57_11ed_86b4_00155db69a9arow2_col1\" class=\"data row2 col1\" >1.11e+04</td>\n",
       "                        <td id=\"T_24cbbefa_ce57_11ed_86b4_00155db69a9arow2_col2\" class=\"data row2 col2\" >0.113</td>\n",
       "                        <td id=\"T_24cbbefa_ce57_11ed_86b4_00155db69a9arow2_col3\" class=\"data row2 col3\" >0.11</td>\n",
       "            </tr>\n",
       "            <tr>\n",
       "                        <th id=\"T_24cbbefa_ce57_11ed_86b4_00155db69a9alevel0_row3\" class=\"row_heading level0 row3\" >15</th>\n",
       "                        <td id=\"T_24cbbefa_ce57_11ed_86b4_00155db69a9arow3_col0\" class=\"data row3 col0\" >1.06e+04</td>\n",
       "                        <td id=\"T_24cbbefa_ce57_11ed_86b4_00155db69a9arow3_col1\" class=\"data row3 col1\" >1.08e+04</td>\n",
       "                        <td id=\"T_24cbbefa_ce57_11ed_86b4_00155db69a9arow3_col2\" class=\"data row3 col2\" >0.0858</td>\n",
       "                        <td id=\"T_24cbbefa_ce57_11ed_86b4_00155db69a9arow3_col3\" class=\"data row3 col3\" >0.0816</td>\n",
       "            </tr>\n",
       "    </tbody></table>"
      ],
      "text/plain": [
       "<pandas.io.formats.style.Styler at 0x7f06f7b99910>"
      ]
     },
     "metadata": {},
     "output_type": "display_data"
    },
    {
     "name": "stdout",
     "output_type": "stream",
     "text": [
      "[\u001b[1mtardis.simulation.base\u001b[0m][\u001b[1;37mINFO\u001b[0m   ]  \n",
      "\t\n",
      "\tCurrent t_inner = 10655.561 K\n",
      "\tExpected t_inner for next iteration = 10636.536 K\n",
      " (\u001b[1mbase.py\u001b[0m:554)\n",
      "[\u001b[1mtardis.simulation.base\u001b[0m][\u001b[1;37mINFO\u001b[0m   ]  \n",
      "\t\n",
      "\tStarting iteration 18 of 20 (\u001b[1mbase.py\u001b[0m:385)\n",
      "[\u001b[1mtardis.simulation.base\u001b[0m][\u001b[1;37mINFO\u001b[0m   ]  \n",
      "\t\n",
      "\tLuminosity emitted   = 1.057e+43 erg / s\n",
      "\tLuminosity absorbed  = 3.365e+42 erg / s\n",
      "\tLuminosity requested = 1.059e+43 erg / s\n",
      " (\u001b[1mbase.py\u001b[0m:559)\n",
      "[\u001b[1mtardis.simulation.base\u001b[0m][\u001b[1;37mINFO\u001b[0m   ]  \n",
      "\tIteration converged 1/4 consecutive times. (\u001b[1mbase.py\u001b[0m:266)\n",
      "[\u001b[1mtardis.simulation.base\u001b[0m][\u001b[1;37mINFO\u001b[0m   ]  \n",
      "\t\n",
      "\tPlasma stratification: (\u001b[1mbase.py\u001b[0m:527)\n"
     ]
    },
    {
     "data": {
      "text/html": [
       "<style  type=\"text/css\" >\n",
       "</style><table id=\"T_26732914_ce57_11ed_86b4_00155db69a9a\" ><thead>    <tr>        <th class=\"index_name level0\" >Shell No.</th>        <th class=\"col_heading level0 col0\" >t_rad</th>        <th class=\"col_heading level0 col1\" >next_t_rad</th>        <th class=\"col_heading level0 col2\" >w</th>        <th class=\"col_heading level0 col3\" >next_w</th>    </tr></thead><tbody>\n",
       "                <tr>\n",
       "                        <th id=\"T_26732914_ce57_11ed_86b4_00155db69a9alevel0_row0\" class=\"row_heading level0 row0\" >0</th>\n",
       "                        <td id=\"T_26732914_ce57_11ed_86b4_00155db69a9arow0_col0\" class=\"data row0 col0\" >1.11e+04</td>\n",
       "                        <td id=\"T_26732914_ce57_11ed_86b4_00155db69a9arow0_col1\" class=\"data row0 col1\" >1.11e+04</td>\n",
       "                        <td id=\"T_26732914_ce57_11ed_86b4_00155db69a9arow0_col2\" class=\"data row0 col2\" >0.468</td>\n",
       "                        <td id=\"T_26732914_ce57_11ed_86b4_00155db69a9arow0_col3\" class=\"data row0 col3\" >0.464</td>\n",
       "            </tr>\n",
       "            <tr>\n",
       "                        <th id=\"T_26732914_ce57_11ed_86b4_00155db69a9alevel0_row1\" class=\"row_heading level0 row1\" >5</th>\n",
       "                        <td id=\"T_26732914_ce57_11ed_86b4_00155db69a9arow1_col0\" class=\"data row1 col0\" >1.14e+04</td>\n",
       "                        <td id=\"T_26732914_ce57_11ed_86b4_00155db69a9arow1_col1\" class=\"data row1 col1\" >1.13e+04</td>\n",
       "                        <td id=\"T_26732914_ce57_11ed_86b4_00155db69a9arow1_col2\" class=\"data row1 col2\" >0.175</td>\n",
       "                        <td id=\"T_26732914_ce57_11ed_86b4_00155db69a9arow1_col3\" class=\"data row1 col3\" >0.177</td>\n",
       "            </tr>\n",
       "            <tr>\n",
       "                        <th id=\"T_26732914_ce57_11ed_86b4_00155db69a9alevel0_row2\" class=\"row_heading level0 row2\" >10</th>\n",
       "                        <td id=\"T_26732914_ce57_11ed_86b4_00155db69a9arow2_col0\" class=\"data row2 col0\" >1.11e+04</td>\n",
       "                        <td id=\"T_26732914_ce57_11ed_86b4_00155db69a9arow2_col1\" class=\"data row2 col1\" >1.1e+04</td>\n",
       "                        <td id=\"T_26732914_ce57_11ed_86b4_00155db69a9arow2_col2\" class=\"data row2 col2\" >0.11</td>\n",
       "                        <td id=\"T_26732914_ce57_11ed_86b4_00155db69a9arow2_col3\" class=\"data row2 col3\" >0.113</td>\n",
       "            </tr>\n",
       "            <tr>\n",
       "                        <th id=\"T_26732914_ce57_11ed_86b4_00155db69a9alevel0_row3\" class=\"row_heading level0 row3\" >15</th>\n",
       "                        <td id=\"T_26732914_ce57_11ed_86b4_00155db69a9arow3_col0\" class=\"data row3 col0\" >1.08e+04</td>\n",
       "                        <td id=\"T_26732914_ce57_11ed_86b4_00155db69a9arow3_col1\" class=\"data row3 col1\" >1.07e+04</td>\n",
       "                        <td id=\"T_26732914_ce57_11ed_86b4_00155db69a9arow3_col2\" class=\"data row3 col2\" >0.0816</td>\n",
       "                        <td id=\"T_26732914_ce57_11ed_86b4_00155db69a9arow3_col3\" class=\"data row3 col3\" >0.0848</td>\n",
       "            </tr>\n",
       "    </tbody></table>"
      ],
      "text/plain": [
       "<pandas.io.formats.style.Styler at 0x7f06f74a6fd0>"
      ]
     },
     "metadata": {},
     "output_type": "display_data"
    },
    {
     "name": "stdout",
     "output_type": "stream",
     "text": [
      "[\u001b[1mtardis.simulation.base\u001b[0m][\u001b[1;37mINFO\u001b[0m   ]  \n",
      "\t\n",
      "\tCurrent t_inner = 10636.536 K\n",
      "\tExpected t_inner for next iteration = 10641.692 K\n",
      " (\u001b[1mbase.py\u001b[0m:554)\n",
      "[\u001b[1mtardis.simulation.base\u001b[0m][\u001b[1;37mINFO\u001b[0m   ]  \n",
      "\t\n",
      "\tStarting iteration 19 of 20 (\u001b[1mbase.py\u001b[0m:385)\n",
      "[\u001b[1mtardis.simulation.base\u001b[0m][\u001b[1;37mINFO\u001b[0m   ]  \n",
      "\t\n",
      "\tLuminosity emitted   = 1.056e+43 erg / s\n",
      "\tLuminosity absorbed  = 3.405e+42 erg / s\n",
      "\tLuminosity requested = 1.059e+43 erg / s\n",
      " (\u001b[1mbase.py\u001b[0m:559)\n",
      "[\u001b[1mtardis.simulation.base\u001b[0m][\u001b[1;37mINFO\u001b[0m   ]  \n",
      "\tIteration converged 2/4 consecutive times. (\u001b[1mbase.py\u001b[0m:266)\n",
      "[\u001b[1mtardis.simulation.base\u001b[0m][\u001b[1;37mINFO\u001b[0m   ]  \n",
      "\t\n",
      "\tPlasma stratification: (\u001b[1mbase.py\u001b[0m:527)\n"
     ]
    },
    {
     "data": {
      "text/html": [
       "<style  type=\"text/css\" >\n",
       "</style><table id=\"T_2852b15a_ce57_11ed_86b4_00155db69a9a\" ><thead>    <tr>        <th class=\"index_name level0\" >Shell No.</th>        <th class=\"col_heading level0 col0\" >t_rad</th>        <th class=\"col_heading level0 col1\" >next_t_rad</th>        <th class=\"col_heading level0 col2\" >w</th>        <th class=\"col_heading level0 col3\" >next_w</th>    </tr></thead><tbody>\n",
       "                <tr>\n",
       "                        <th id=\"T_2852b15a_ce57_11ed_86b4_00155db69a9alevel0_row0\" class=\"row_heading level0 row0\" >0</th>\n",
       "                        <td id=\"T_2852b15a_ce57_11ed_86b4_00155db69a9arow0_col0\" class=\"data row0 col0\" >1.11e+04</td>\n",
       "                        <td id=\"T_2852b15a_ce57_11ed_86b4_00155db69a9arow0_col1\" class=\"data row0 col1\" >1.11e+04</td>\n",
       "                        <td id=\"T_2852b15a_ce57_11ed_86b4_00155db69a9arow0_col2\" class=\"data row0 col2\" >0.464</td>\n",
       "                        <td id=\"T_2852b15a_ce57_11ed_86b4_00155db69a9arow0_col3\" class=\"data row0 col3\" >0.466</td>\n",
       "            </tr>\n",
       "            <tr>\n",
       "                        <th id=\"T_2852b15a_ce57_11ed_86b4_00155db69a9alevel0_row1\" class=\"row_heading level0 row1\" >5</th>\n",
       "                        <td id=\"T_2852b15a_ce57_11ed_86b4_00155db69a9arow1_col0\" class=\"data row1 col0\" >1.13e+04</td>\n",
       "                        <td id=\"T_2852b15a_ce57_11ed_86b4_00155db69a9arow1_col1\" class=\"data row1 col1\" >1.13e+04</td>\n",
       "                        <td id=\"T_2852b15a_ce57_11ed_86b4_00155db69a9arow1_col2\" class=\"data row1 col2\" >0.177</td>\n",
       "                        <td id=\"T_2852b15a_ce57_11ed_86b4_00155db69a9arow1_col3\" class=\"data row1 col3\" >0.177</td>\n",
       "            </tr>\n",
       "            <tr>\n",
       "                        <th id=\"T_2852b15a_ce57_11ed_86b4_00155db69a9alevel0_row2\" class=\"row_heading level0 row2\" >10</th>\n",
       "                        <td id=\"T_2852b15a_ce57_11ed_86b4_00155db69a9arow2_col0\" class=\"data row2 col0\" >1.1e+04</td>\n",
       "                        <td id=\"T_2852b15a_ce57_11ed_86b4_00155db69a9arow2_col1\" class=\"data row2 col1\" >1.11e+04</td>\n",
       "                        <td id=\"T_2852b15a_ce57_11ed_86b4_00155db69a9arow2_col2\" class=\"data row2 col2\" >0.113</td>\n",
       "                        <td id=\"T_2852b15a_ce57_11ed_86b4_00155db69a9arow2_col3\" class=\"data row2 col3\" >0.111</td>\n",
       "            </tr>\n",
       "            <tr>\n",
       "                        <th id=\"T_2852b15a_ce57_11ed_86b4_00155db69a9alevel0_row3\" class=\"row_heading level0 row3\" >15</th>\n",
       "                        <td id=\"T_2852b15a_ce57_11ed_86b4_00155db69a9arow3_col0\" class=\"data row3 col0\" >1.07e+04</td>\n",
       "                        <td id=\"T_2852b15a_ce57_11ed_86b4_00155db69a9arow3_col1\" class=\"data row3 col1\" >1.07e+04</td>\n",
       "                        <td id=\"T_2852b15a_ce57_11ed_86b4_00155db69a9arow3_col2\" class=\"data row3 col2\" >0.0848</td>\n",
       "                        <td id=\"T_2852b15a_ce57_11ed_86b4_00155db69a9arow3_col3\" class=\"data row3 col3\" >0.0853</td>\n",
       "            </tr>\n",
       "    </tbody></table>"
      ],
      "text/plain": [
       "<pandas.io.formats.style.Styler at 0x7f06f74d7d90>"
      ]
     },
     "metadata": {},
     "output_type": "display_data"
    },
    {
     "name": "stdout",
     "output_type": "stream",
     "text": [
      "[\u001b[1mtardis.simulation.base\u001b[0m][\u001b[1;37mINFO\u001b[0m   ]  \n",
      "\t\n",
      "\tCurrent t_inner = 10641.692 K\n",
      "\tExpected t_inner for next iteration = 10650.463 K\n",
      " (\u001b[1mbase.py\u001b[0m:554)\n",
      "[\u001b[1mtardis.simulation.base\u001b[0m][\u001b[1;37mINFO\u001b[0m   ]  \n",
      "\t\n",
      "\tStarting iteration 20 of 20 (\u001b[1mbase.py\u001b[0m:385)\n",
      "[\u001b[1mtardis.simulation.base\u001b[0m][\u001b[1;37mINFO\u001b[0m   ]  \n",
      "\t\n",
      "\tLuminosity emitted   = 1.061e+43 erg / s\n",
      "\tLuminosity absorbed  = 3.401e+42 erg / s\n",
      "\tLuminosity requested = 1.059e+43 erg / s\n",
      " (\u001b[1mbase.py\u001b[0m:559)\n",
      "[\u001b[1mtardis.simulation.base\u001b[0m][\u001b[1;37mINFO\u001b[0m   ]  \n",
      "\t\n",
      "\tSimulation finished in 20 iterations \n",
      "\tSimulation took 175.41 s\n",
      " (\u001b[1mbase.py\u001b[0m:480)\n"
     ]
    }
   ],
   "source": [
    "from tardis import run_tardis\n",
    "\n",
    "sim = run_tardis('tardis_example.yml', virtual_packet_logging=True)"
   ]
  },
  {
   "cell_type": "code",
   "execution_count": 6,
   "metadata": {},
   "outputs": [
    {
     "name": "stdout",
     "output_type": "stream",
     "text": [
      "[11000000. 11450000. 11900000. 12350000. 12800000. 13250000. 13700000.\n",
      " 14150000. 14600000. 15050000. 15500000. 15950000. 16400000. 16850000.\n",
      " 17300000. 17750000. 18200000. 18650000. 19100000. 19550000.] m / s\n"
     ]
    },
    {
     "data": {
      "text/html": [
       "<div>\n",
       "<style scoped>\n",
       "    .dataframe tbody tr th:only-of-type {\n",
       "        vertical-align: middle;\n",
       "    }\n",
       "\n",
       "    .dataframe tbody tr th {\n",
       "        vertical-align: top;\n",
       "    }\n",
       "\n",
       "    .dataframe thead th {\n",
       "        text-align: right;\n",
       "    }\n",
       "</style>\n",
       "<table border=\"1\" class=\"dataframe\">\n",
       "  <thead>\n",
       "    <tr style=\"text-align: right;\">\n",
       "      <th></th>\n",
       "      <th>0</th>\n",
       "      <th>1</th>\n",
       "      <th>2</th>\n",
       "      <th>3</th>\n",
       "      <th>4</th>\n",
       "      <th>5</th>\n",
       "      <th>6</th>\n",
       "      <th>7</th>\n",
       "      <th>8</th>\n",
       "      <th>9</th>\n",
       "      <th>10</th>\n",
       "      <th>11</th>\n",
       "      <th>12</th>\n",
       "      <th>13</th>\n",
       "      <th>14</th>\n",
       "      <th>15</th>\n",
       "      <th>16</th>\n",
       "      <th>17</th>\n",
       "      <th>18</th>\n",
       "      <th>19</th>\n",
       "    </tr>\n",
       "    <tr>\n",
       "      <th>atomic_number</th>\n",
       "      <th></th>\n",
       "      <th></th>\n",
       "      <th></th>\n",
       "      <th></th>\n",
       "      <th></th>\n",
       "      <th></th>\n",
       "      <th></th>\n",
       "      <th></th>\n",
       "      <th></th>\n",
       "      <th></th>\n",
       "      <th></th>\n",
       "      <th></th>\n",
       "      <th></th>\n",
       "      <th></th>\n",
       "      <th></th>\n",
       "      <th></th>\n",
       "      <th></th>\n",
       "      <th></th>\n",
       "      <th></th>\n",
       "      <th></th>\n",
       "    </tr>\n",
       "  </thead>\n",
       "  <tbody>\n",
       "    <tr>\n",
       "      <th>8</th>\n",
       "      <td>0.19</td>\n",
       "      <td>0.19</td>\n",
       "      <td>0.19</td>\n",
       "      <td>0.19</td>\n",
       "      <td>0.19</td>\n",
       "      <td>0.19</td>\n",
       "      <td>0.19</td>\n",
       "      <td>0.19</td>\n",
       "      <td>0.19</td>\n",
       "      <td>0.19</td>\n",
       "      <td>0.19</td>\n",
       "      <td>0.19</td>\n",
       "      <td>0.19</td>\n",
       "      <td>0.19</td>\n",
       "      <td>0.19</td>\n",
       "      <td>0.19</td>\n",
       "      <td>0.19</td>\n",
       "      <td>0.19</td>\n",
       "      <td>0.19</td>\n",
       "      <td>0.19</td>\n",
       "    </tr>\n",
       "    <tr>\n",
       "      <th>12</th>\n",
       "      <td>0.03</td>\n",
       "      <td>0.03</td>\n",
       "      <td>0.03</td>\n",
       "      <td>0.03</td>\n",
       "      <td>0.03</td>\n",
       "      <td>0.03</td>\n",
       "      <td>0.03</td>\n",
       "      <td>0.03</td>\n",
       "      <td>0.03</td>\n",
       "      <td>0.03</td>\n",
       "      <td>0.03</td>\n",
       "      <td>0.03</td>\n",
       "      <td>0.03</td>\n",
       "      <td>0.03</td>\n",
       "      <td>0.03</td>\n",
       "      <td>0.03</td>\n",
       "      <td>0.03</td>\n",
       "      <td>0.03</td>\n",
       "      <td>0.03</td>\n",
       "      <td>0.03</td>\n",
       "    </tr>\n",
       "    <tr>\n",
       "      <th>14</th>\n",
       "      <td>0.52</td>\n",
       "      <td>0.52</td>\n",
       "      <td>0.52</td>\n",
       "      <td>0.52</td>\n",
       "      <td>0.52</td>\n",
       "      <td>0.52</td>\n",
       "      <td>0.52</td>\n",
       "      <td>0.52</td>\n",
       "      <td>0.52</td>\n",
       "      <td>0.52</td>\n",
       "      <td>0.52</td>\n",
       "      <td>0.52</td>\n",
       "      <td>0.52</td>\n",
       "      <td>0.52</td>\n",
       "      <td>0.52</td>\n",
       "      <td>0.52</td>\n",
       "      <td>0.52</td>\n",
       "      <td>0.52</td>\n",
       "      <td>0.52</td>\n",
       "      <td>0.52</td>\n",
       "    </tr>\n",
       "    <tr>\n",
       "      <th>16</th>\n",
       "      <td>0.19</td>\n",
       "      <td>0.19</td>\n",
       "      <td>0.19</td>\n",
       "      <td>0.19</td>\n",
       "      <td>0.19</td>\n",
       "      <td>0.19</td>\n",
       "      <td>0.19</td>\n",
       "      <td>0.19</td>\n",
       "      <td>0.19</td>\n",
       "      <td>0.19</td>\n",
       "      <td>0.19</td>\n",
       "      <td>0.19</td>\n",
       "      <td>0.19</td>\n",
       "      <td>0.19</td>\n",
       "      <td>0.19</td>\n",
       "      <td>0.19</td>\n",
       "      <td>0.19</td>\n",
       "      <td>0.19</td>\n",
       "      <td>0.19</td>\n",
       "      <td>0.19</td>\n",
       "    </tr>\n",
       "    <tr>\n",
       "      <th>18</th>\n",
       "      <td>0.04</td>\n",
       "      <td>0.04</td>\n",
       "      <td>0.04</td>\n",
       "      <td>0.04</td>\n",
       "      <td>0.04</td>\n",
       "      <td>0.04</td>\n",
       "      <td>0.04</td>\n",
       "      <td>0.04</td>\n",
       "      <td>0.04</td>\n",
       "      <td>0.04</td>\n",
       "      <td>0.04</td>\n",
       "      <td>0.04</td>\n",
       "      <td>0.04</td>\n",
       "      <td>0.04</td>\n",
       "      <td>0.04</td>\n",
       "      <td>0.04</td>\n",
       "      <td>0.04</td>\n",
       "      <td>0.04</td>\n",
       "      <td>0.04</td>\n",
       "      <td>0.04</td>\n",
       "    </tr>\n",
       "    <tr>\n",
       "      <th>20</th>\n",
       "      <td>0.03</td>\n",
       "      <td>0.03</td>\n",
       "      <td>0.03</td>\n",
       "      <td>0.03</td>\n",
       "      <td>0.03</td>\n",
       "      <td>0.03</td>\n",
       "      <td>0.03</td>\n",
       "      <td>0.03</td>\n",
       "      <td>0.03</td>\n",
       "      <td>0.03</td>\n",
       "      <td>0.03</td>\n",
       "      <td>0.03</td>\n",
       "      <td>0.03</td>\n",
       "      <td>0.03</td>\n",
       "      <td>0.03</td>\n",
       "      <td>0.03</td>\n",
       "      <td>0.03</td>\n",
       "      <td>0.03</td>\n",
       "      <td>0.03</td>\n",
       "      <td>0.03</td>\n",
       "    </tr>\n",
       "  </tbody>\n",
       "</table>\n",
       "</div>"
      ],
      "text/plain": [
       "                  0     1     2     3     4     5     6     7     8     9  \\\n",
       "atomic_number                                                               \n",
       "8              0.19  0.19  0.19  0.19  0.19  0.19  0.19  0.19  0.19  0.19   \n",
       "12             0.03  0.03  0.03  0.03  0.03  0.03  0.03  0.03  0.03  0.03   \n",
       "14             0.52  0.52  0.52  0.52  0.52  0.52  0.52  0.52  0.52  0.52   \n",
       "16             0.19  0.19  0.19  0.19  0.19  0.19  0.19  0.19  0.19  0.19   \n",
       "18             0.04  0.04  0.04  0.04  0.04  0.04  0.04  0.04  0.04  0.04   \n",
       "20             0.03  0.03  0.03  0.03  0.03  0.03  0.03  0.03  0.03  0.03   \n",
       "\n",
       "                 10    11    12    13    14    15    16    17    18    19  \n",
       "atomic_number                                                              \n",
       "8              0.19  0.19  0.19  0.19  0.19  0.19  0.19  0.19  0.19  0.19  \n",
       "12             0.03  0.03  0.03  0.03  0.03  0.03  0.03  0.03  0.03  0.03  \n",
       "14             0.52  0.52  0.52  0.52  0.52  0.52  0.52  0.52  0.52  0.52  \n",
       "16             0.19  0.19  0.19  0.19  0.19  0.19  0.19  0.19  0.19  0.19  \n",
       "18             0.04  0.04  0.04  0.04  0.04  0.04  0.04  0.04  0.04  0.04  \n",
       "20             0.03  0.03  0.03  0.03  0.03  0.03  0.03  0.03  0.03  0.03  "
      ]
     },
     "execution_count": 6,
     "metadata": {},
     "output_type": "execute_result"
    }
   ],
   "source": [
    "#Fetch velocities and abundances\n",
    "shell_velocities = sim.model.v_inner.si\n",
    "print(shell_velocities)\n",
    "abundances = sim.plasma.abundance\n",
    "abundances"
   ]
  },
  {
   "cell_type": "code",
   "execution_count": 11,
   "metadata": {},
   "outputs": [
    {
     "data": {
      "application/vnd.plotly.v1+json": {
       "config": {
        "plotlyServerURL": "https://plot.ly"
       },
       "data": [
        {
         "direction": "clockwise",
         "hole": 0,
         "labels": [
          "O",
          "Mg",
          "Si",
          "S",
          "Ar",
          "Ca"
         ],
         "marker": {
          "colors": [
           [
            0.8941176470588236,
            0.10196078431372549,
            0.10980392156862745,
            1
           ],
           [
            0.21568627450980393,
            0.49411764705882355,
            0.7215686274509804,
            1
           ],
           [
            0.596078431372549,
            0.3058823529411765,
            0.6392156862745098,
            1
           ],
           [
            1,
            1,
            0.2,
            1
           ],
           [
            0.9686274509803922,
            0.5058823529411764,
            0.7490196078431373,
            1
           ],
           [
            0.6,
            0.6,
            0.6,
            1
           ]
          ],
          "line": {
           "color": "white",
           "width": 1
          }
         },
         "name": "Shell 1",
         "rotation": -90,
         "sort": false,
         "textinfo": "label+value",
         "textposition": "inside",
         "type": "pie",
         "values": [
          0.19,
          0.03,
          0.52,
          0.19,
          0.04,
          0.03
         ]
        },
        {
         "direction": "clockwise",
         "hole": 0.04000000000000001,
         "labels": [
          "O",
          "Mg",
          "Si",
          "S",
          "Ar",
          "Ca"
         ],
         "marker": {
          "colors": [
           [
            0.8941176470588236,
            0.10196078431372549,
            0.10980392156862745,
            1
           ],
           [
            0.21568627450980393,
            0.49411764705882355,
            0.7215686274509804,
            1
           ],
           [
            0.596078431372549,
            0.3058823529411765,
            0.6392156862745098,
            1
           ],
           [
            1,
            1,
            0.2,
            1
           ],
           [
            0.9686274509803922,
            0.5058823529411764,
            0.7490196078431373,
            1
           ],
           [
            0.6,
            0.6,
            0.6,
            1
           ]
          ],
          "line": {
           "color": "white",
           "width": 1
          }
         },
         "name": "Shell 2",
         "rotation": -90,
         "sort": false,
         "textinfo": "label+value",
         "textposition": "inside",
         "type": "pie",
         "values": [
          0.19,
          0.03,
          0.52,
          0.19,
          0.04,
          0.03
         ]
        },
        {
         "direction": "clockwise",
         "hole": 0.08000000000000002,
         "labels": [
          "O",
          "Mg",
          "Si",
          "S",
          "Ar",
          "Ca"
         ],
         "marker": {
          "colors": [
           [
            0.8941176470588236,
            0.10196078431372549,
            0.10980392156862745,
            1
           ],
           [
            0.21568627450980393,
            0.49411764705882355,
            0.7215686274509804,
            1
           ],
           [
            0.596078431372549,
            0.3058823529411765,
            0.6392156862745098,
            1
           ],
           [
            1,
            1,
            0.2,
            1
           ],
           [
            0.9686274509803922,
            0.5058823529411764,
            0.7490196078431373,
            1
           ],
           [
            0.6,
            0.6,
            0.6,
            1
           ]
          ],
          "line": {
           "color": "white",
           "width": 1
          }
         },
         "name": "Shell 3",
         "rotation": -90,
         "sort": false,
         "textinfo": "label+value",
         "textposition": "inside",
         "type": "pie",
         "values": [
          0.19,
          0.03,
          0.52,
          0.19,
          0.04,
          0.03
         ]
        },
        {
         "direction": "clockwise",
         "hole": 0.12,
         "labels": [
          "O",
          "Mg",
          "Si",
          "S",
          "Ar",
          "Ca"
         ],
         "marker": {
          "colors": [
           [
            0.8941176470588236,
            0.10196078431372549,
            0.10980392156862745,
            1
           ],
           [
            0.21568627450980393,
            0.49411764705882355,
            0.7215686274509804,
            1
           ],
           [
            0.596078431372549,
            0.3058823529411765,
            0.6392156862745098,
            1
           ],
           [
            1,
            1,
            0.2,
            1
           ],
           [
            0.9686274509803922,
            0.5058823529411764,
            0.7490196078431373,
            1
           ],
           [
            0.6,
            0.6,
            0.6,
            1
           ]
          ],
          "line": {
           "color": "white",
           "width": 1
          }
         },
         "name": "Shell 4",
         "rotation": -90,
         "sort": false,
         "textinfo": "label+value",
         "textposition": "inside",
         "type": "pie",
         "values": [
          0.19,
          0.03,
          0.52,
          0.19,
          0.04,
          0.03
         ]
        },
        {
         "direction": "clockwise",
         "hole": 0.16000000000000003,
         "labels": [
          "O",
          "Mg",
          "Si",
          "S",
          "Ar",
          "Ca"
         ],
         "marker": {
          "colors": [
           [
            0.8941176470588236,
            0.10196078431372549,
            0.10980392156862745,
            1
           ],
           [
            0.21568627450980393,
            0.49411764705882355,
            0.7215686274509804,
            1
           ],
           [
            0.596078431372549,
            0.3058823529411765,
            0.6392156862745098,
            1
           ],
           [
            1,
            1,
            0.2,
            1
           ],
           [
            0.9686274509803922,
            0.5058823529411764,
            0.7490196078431373,
            1
           ],
           [
            0.6,
            0.6,
            0.6,
            1
           ]
          ],
          "line": {
           "color": "white",
           "width": 1
          }
         },
         "name": "Shell 5",
         "rotation": -90,
         "sort": false,
         "textinfo": "label+value",
         "textposition": "inside",
         "type": "pie",
         "values": [
          0.19,
          0.03,
          0.52,
          0.19,
          0.04,
          0.03
         ]
        },
        {
         "direction": "clockwise",
         "hole": 0.2,
         "labels": [
          "O",
          "Mg",
          "Si",
          "S",
          "Ar",
          "Ca"
         ],
         "marker": {
          "colors": [
           [
            0.8941176470588236,
            0.10196078431372549,
            0.10980392156862745,
            1
           ],
           [
            0.21568627450980393,
            0.49411764705882355,
            0.7215686274509804,
            1
           ],
           [
            0.596078431372549,
            0.3058823529411765,
            0.6392156862745098,
            1
           ],
           [
            1,
            1,
            0.2,
            1
           ],
           [
            0.9686274509803922,
            0.5058823529411764,
            0.7490196078431373,
            1
           ],
           [
            0.6,
            0.6,
            0.6,
            1
           ]
          ],
          "line": {
           "color": "white",
           "width": 1
          }
         },
         "name": "Shell 6",
         "rotation": -90,
         "sort": false,
         "textinfo": "label+value",
         "textposition": "inside",
         "type": "pie",
         "values": [
          0.19,
          0.03,
          0.52,
          0.19,
          0.04,
          0.03
         ]
        },
        {
         "direction": "clockwise",
         "hole": 0.24,
         "labels": [
          "O",
          "Mg",
          "Si",
          "S",
          "Ar",
          "Ca"
         ],
         "marker": {
          "colors": [
           [
            0.8941176470588236,
            0.10196078431372549,
            0.10980392156862745,
            1
           ],
           [
            0.21568627450980393,
            0.49411764705882355,
            0.7215686274509804,
            1
           ],
           [
            0.596078431372549,
            0.3058823529411765,
            0.6392156862745098,
            1
           ],
           [
            1,
            1,
            0.2,
            1
           ],
           [
            0.9686274509803922,
            0.5058823529411764,
            0.7490196078431373,
            1
           ],
           [
            0.6,
            0.6,
            0.6,
            1
           ]
          ],
          "line": {
           "color": "white",
           "width": 1
          }
         },
         "name": "Shell 7",
         "rotation": -90,
         "sort": false,
         "textinfo": "label+value",
         "textposition": "inside",
         "type": "pie",
         "values": [
          0.19,
          0.03,
          0.52,
          0.19,
          0.04,
          0.03
         ]
        },
        {
         "direction": "clockwise",
         "hole": 0.27999999999999997,
         "labels": [
          "O",
          "Mg",
          "Si",
          "S",
          "Ar",
          "Ca"
         ],
         "marker": {
          "colors": [
           [
            0.8941176470588236,
            0.10196078431372549,
            0.10980392156862745,
            1
           ],
           [
            0.21568627450980393,
            0.49411764705882355,
            0.7215686274509804,
            1
           ],
           [
            0.596078431372549,
            0.3058823529411765,
            0.6392156862745098,
            1
           ],
           [
            1,
            1,
            0.2,
            1
           ],
           [
            0.9686274509803922,
            0.5058823529411764,
            0.7490196078431373,
            1
           ],
           [
            0.6,
            0.6,
            0.6,
            1
           ]
          ],
          "line": {
           "color": "white",
           "width": 1
          }
         },
         "name": "Shell 8",
         "rotation": -90,
         "sort": false,
         "textinfo": "label+value",
         "textposition": "inside",
         "type": "pie",
         "values": [
          0.19,
          0.03,
          0.52,
          0.19,
          0.04,
          0.03
         ]
        },
        {
         "direction": "clockwise",
         "hole": 0.32000000000000006,
         "labels": [
          "O",
          "Mg",
          "Si",
          "S",
          "Ar",
          "Ca"
         ],
         "marker": {
          "colors": [
           [
            0.8941176470588236,
            0.10196078431372549,
            0.10980392156862745,
            1
           ],
           [
            0.21568627450980393,
            0.49411764705882355,
            0.7215686274509804,
            1
           ],
           [
            0.596078431372549,
            0.3058823529411765,
            0.6392156862745098,
            1
           ],
           [
            1,
            1,
            0.2,
            1
           ],
           [
            0.9686274509803922,
            0.5058823529411764,
            0.7490196078431373,
            1
           ],
           [
            0.6,
            0.6,
            0.6,
            1
           ]
          ],
          "line": {
           "color": "white",
           "width": 1
          }
         },
         "name": "Shell 9",
         "rotation": -90,
         "sort": false,
         "textinfo": "label+value",
         "textposition": "inside",
         "type": "pie",
         "values": [
          0.19,
          0.03,
          0.52,
          0.19,
          0.04,
          0.03
         ]
        },
        {
         "direction": "clockwise",
         "hole": 0.36000000000000004,
         "labels": [
          "O",
          "Mg",
          "Si",
          "S",
          "Ar",
          "Ca"
         ],
         "marker": {
          "colors": [
           [
            0.8941176470588236,
            0.10196078431372549,
            0.10980392156862745,
            1
           ],
           [
            0.21568627450980393,
            0.49411764705882355,
            0.7215686274509804,
            1
           ],
           [
            0.596078431372549,
            0.3058823529411765,
            0.6392156862745098,
            1
           ],
           [
            1,
            1,
            0.2,
            1
           ],
           [
            0.9686274509803922,
            0.5058823529411764,
            0.7490196078431373,
            1
           ],
           [
            0.6,
            0.6,
            0.6,
            1
           ]
          ],
          "line": {
           "color": "white",
           "width": 1
          }
         },
         "name": "Shell 10",
         "rotation": -90,
         "sort": false,
         "textinfo": "label+value",
         "textposition": "inside",
         "type": "pie",
         "values": [
          0.19,
          0.03,
          0.52,
          0.19,
          0.04,
          0.03
         ]
        },
        {
         "direction": "clockwise",
         "hole": 0.4,
         "labels": [
          "O",
          "Mg",
          "Si",
          "S",
          "Ar",
          "Ca"
         ],
         "marker": {
          "colors": [
           [
            0.8941176470588236,
            0.10196078431372549,
            0.10980392156862745,
            1
           ],
           [
            0.21568627450980393,
            0.49411764705882355,
            0.7215686274509804,
            1
           ],
           [
            0.596078431372549,
            0.3058823529411765,
            0.6392156862745098,
            1
           ],
           [
            1,
            1,
            0.2,
            1
           ],
           [
            0.9686274509803922,
            0.5058823529411764,
            0.7490196078431373,
            1
           ],
           [
            0.6,
            0.6,
            0.6,
            1
           ]
          ],
          "line": {
           "color": "white",
           "width": 1
          }
         },
         "name": "Shell 11",
         "rotation": -90,
         "sort": false,
         "textinfo": "label+value",
         "textposition": "inside",
         "type": "pie",
         "values": [
          0.19,
          0.03,
          0.52,
          0.19,
          0.04,
          0.03
         ]
        },
        {
         "direction": "clockwise",
         "hole": 0.44000000000000006,
         "labels": [
          "O",
          "Mg",
          "Si",
          "S",
          "Ar",
          "Ca"
         ],
         "marker": {
          "colors": [
           [
            0.8941176470588236,
            0.10196078431372549,
            0.10980392156862745,
            1
           ],
           [
            0.21568627450980393,
            0.49411764705882355,
            0.7215686274509804,
            1
           ],
           [
            0.596078431372549,
            0.3058823529411765,
            0.6392156862745098,
            1
           ],
           [
            1,
            1,
            0.2,
            1
           ],
           [
            0.9686274509803922,
            0.5058823529411764,
            0.7490196078431373,
            1
           ],
           [
            0.6,
            0.6,
            0.6,
            1
           ]
          ],
          "line": {
           "color": "white",
           "width": 1
          }
         },
         "name": "Shell 12",
         "rotation": -90,
         "sort": false,
         "textinfo": "label+value",
         "textposition": "inside",
         "type": "pie",
         "values": [
          0.19,
          0.03,
          0.52,
          0.19,
          0.04,
          0.03
         ]
        },
        {
         "direction": "clockwise",
         "hole": 0.48,
         "labels": [
          "O",
          "Mg",
          "Si",
          "S",
          "Ar",
          "Ca"
         ],
         "marker": {
          "colors": [
           [
            0.8941176470588236,
            0.10196078431372549,
            0.10980392156862745,
            1
           ],
           [
            0.21568627450980393,
            0.49411764705882355,
            0.7215686274509804,
            1
           ],
           [
            0.596078431372549,
            0.3058823529411765,
            0.6392156862745098,
            1
           ],
           [
            1,
            1,
            0.2,
            1
           ],
           [
            0.9686274509803922,
            0.5058823529411764,
            0.7490196078431373,
            1
           ],
           [
            0.6,
            0.6,
            0.6,
            1
           ]
          ],
          "line": {
           "color": "white",
           "width": 1
          }
         },
         "name": "Shell 13",
         "rotation": -90,
         "sort": false,
         "textinfo": "label+value",
         "textposition": "inside",
         "type": "pie",
         "values": [
          0.19,
          0.03,
          0.52,
          0.19,
          0.04,
          0.03
         ]
        },
        {
         "direction": "clockwise",
         "hole": 0.52,
         "labels": [
          "O",
          "Mg",
          "Si",
          "S",
          "Ar",
          "Ca"
         ],
         "marker": {
          "colors": [
           [
            0.8941176470588236,
            0.10196078431372549,
            0.10980392156862745,
            1
           ],
           [
            0.21568627450980393,
            0.49411764705882355,
            0.7215686274509804,
            1
           ],
           [
            0.596078431372549,
            0.3058823529411765,
            0.6392156862745098,
            1
           ],
           [
            1,
            1,
            0.2,
            1
           ],
           [
            0.9686274509803922,
            0.5058823529411764,
            0.7490196078431373,
            1
           ],
           [
            0.6,
            0.6,
            0.6,
            1
           ]
          ],
          "line": {
           "color": "white",
           "width": 1
          }
         },
         "name": "Shell 14",
         "rotation": -90,
         "sort": false,
         "textinfo": "label+value",
         "textposition": "inside",
         "type": "pie",
         "values": [
          0.19,
          0.03,
          0.52,
          0.19,
          0.04,
          0.03
         ]
        },
        {
         "direction": "clockwise",
         "hole": 0.5599999999999999,
         "labels": [
          "O",
          "Mg",
          "Si",
          "S",
          "Ar",
          "Ca"
         ],
         "marker": {
          "colors": [
           [
            0.8941176470588236,
            0.10196078431372549,
            0.10980392156862745,
            1
           ],
           [
            0.21568627450980393,
            0.49411764705882355,
            0.7215686274509804,
            1
           ],
           [
            0.596078431372549,
            0.3058823529411765,
            0.6392156862745098,
            1
           ],
           [
            1,
            1,
            0.2,
            1
           ],
           [
            0.9686274509803922,
            0.5058823529411764,
            0.7490196078431373,
            1
           ],
           [
            0.6,
            0.6,
            0.6,
            1
           ]
          ],
          "line": {
           "color": "white",
           "width": 1
          }
         },
         "name": "Shell 15",
         "rotation": -90,
         "sort": false,
         "textinfo": "label+value",
         "textposition": "inside",
         "type": "pie",
         "values": [
          0.19,
          0.03,
          0.52,
          0.19,
          0.04,
          0.03
         ]
        },
        {
         "direction": "clockwise",
         "hole": 0.6000000000000001,
         "labels": [
          "O",
          "Mg",
          "Si",
          "S",
          "Ar",
          "Ca"
         ],
         "marker": {
          "colors": [
           [
            0.8941176470588236,
            0.10196078431372549,
            0.10980392156862745,
            1
           ],
           [
            0.21568627450980393,
            0.49411764705882355,
            0.7215686274509804,
            1
           ],
           [
            0.596078431372549,
            0.3058823529411765,
            0.6392156862745098,
            1
           ],
           [
            1,
            1,
            0.2,
            1
           ],
           [
            0.9686274509803922,
            0.5058823529411764,
            0.7490196078431373,
            1
           ],
           [
            0.6,
            0.6,
            0.6,
            1
           ]
          ],
          "line": {
           "color": "white",
           "width": 1
          }
         },
         "name": "Shell 16",
         "rotation": -90,
         "sort": false,
         "textinfo": "label+value",
         "textposition": "inside",
         "type": "pie",
         "values": [
          0.19,
          0.03,
          0.52,
          0.19,
          0.04,
          0.03
         ]
        },
        {
         "direction": "clockwise",
         "hole": 0.6400000000000001,
         "labels": [
          "O",
          "Mg",
          "Si",
          "S",
          "Ar",
          "Ca"
         ],
         "marker": {
          "colors": [
           [
            0.8941176470588236,
            0.10196078431372549,
            0.10980392156862745,
            1
           ],
           [
            0.21568627450980393,
            0.49411764705882355,
            0.7215686274509804,
            1
           ],
           [
            0.596078431372549,
            0.3058823529411765,
            0.6392156862745098,
            1
           ],
           [
            1,
            1,
            0.2,
            1
           ],
           [
            0.9686274509803922,
            0.5058823529411764,
            0.7490196078431373,
            1
           ],
           [
            0.6,
            0.6,
            0.6,
            1
           ]
          ],
          "line": {
           "color": "white",
           "width": 1
          }
         },
         "name": "Shell 17",
         "rotation": -90,
         "sort": false,
         "textinfo": "label+value",
         "textposition": "inside",
         "type": "pie",
         "values": [
          0.19,
          0.03,
          0.52,
          0.19,
          0.04,
          0.03
         ]
        },
        {
         "direction": "clockwise",
         "hole": 0.68,
         "labels": [
          "O",
          "Mg",
          "Si",
          "S",
          "Ar",
          "Ca"
         ],
         "marker": {
          "colors": [
           [
            0.8941176470588236,
            0.10196078431372549,
            0.10980392156862745,
            1
           ],
           [
            0.21568627450980393,
            0.49411764705882355,
            0.7215686274509804,
            1
           ],
           [
            0.596078431372549,
            0.3058823529411765,
            0.6392156862745098,
            1
           ],
           [
            1,
            1,
            0.2,
            1
           ],
           [
            0.9686274509803922,
            0.5058823529411764,
            0.7490196078431373,
            1
           ],
           [
            0.6,
            0.6,
            0.6,
            1
           ]
          ],
          "line": {
           "color": "white",
           "width": 1
          }
         },
         "name": "Shell 18",
         "rotation": -90,
         "sort": false,
         "textinfo": "label+value",
         "textposition": "inside",
         "type": "pie",
         "values": [
          0.19,
          0.03,
          0.52,
          0.19,
          0.04,
          0.03
         ]
        },
        {
         "direction": "clockwise",
         "hole": 0.7200000000000001,
         "labels": [
          "O",
          "Mg",
          "Si",
          "S",
          "Ar",
          "Ca"
         ],
         "marker": {
          "colors": [
           [
            0.8941176470588236,
            0.10196078431372549,
            0.10980392156862745,
            1
           ],
           [
            0.21568627450980393,
            0.49411764705882355,
            0.7215686274509804,
            1
           ],
           [
            0.596078431372549,
            0.3058823529411765,
            0.6392156862745098,
            1
           ],
           [
            1,
            1,
            0.2,
            1
           ],
           [
            0.9686274509803922,
            0.5058823529411764,
            0.7490196078431373,
            1
           ],
           [
            0.6,
            0.6,
            0.6,
            1
           ]
          ],
          "line": {
           "color": "white",
           "width": 1
          }
         },
         "name": "Shell 19",
         "rotation": -90,
         "sort": false,
         "textinfo": "label+value",
         "textposition": "inside",
         "type": "pie",
         "values": [
          0.19,
          0.03,
          0.52,
          0.19,
          0.04,
          0.03
         ]
        },
        {
         "direction": "clockwise",
         "hole": 0.76,
         "labels": [
          "O",
          "Mg",
          "Si",
          "S",
          "Ar",
          "Ca"
         ],
         "marker": {
          "colors": [
           [
            0.8941176470588236,
            0.10196078431372549,
            0.10980392156862745,
            1
           ],
           [
            0.21568627450980393,
            0.49411764705882355,
            0.7215686274509804,
            1
           ],
           [
            0.596078431372549,
            0.3058823529411765,
            0.6392156862745098,
            1
           ],
           [
            1,
            1,
            0.2,
            1
           ],
           [
            0.9686274509803922,
            0.5058823529411764,
            0.7490196078431373,
            1
           ],
           [
            0.6,
            0.6,
            0.6,
            1
           ]
          ],
          "line": {
           "color": "white",
           "width": 1
          }
         },
         "name": "Shell 20",
         "rotation": -90,
         "sort": false,
         "textinfo": "label+value",
         "textposition": "inside",
         "type": "pie",
         "values": [
          0.19,
          0.03,
          0.52,
          0.19,
          0.04,
          0.03
         ]
        }
       ],
       "layout": {
        "font": {
         "color": "#444",
         "family": "Arial, sans-serif",
         "size": 12
        },
        "legend": {
         "font": {
          "family": "Arial, sans-serif",
          "size": 12
         },
         "x": 1,
         "y": 0.5
        },
        "showlegend": true,
        "template": {
         "data": {
          "bar": [
           {
            "error_x": {
             "color": "#2a3f5f"
            },
            "error_y": {
             "color": "#2a3f5f"
            },
            "marker": {
             "line": {
              "color": "#E5ECF6",
              "width": 0.5
             },
             "pattern": {
              "fillmode": "overlay",
              "size": 10,
              "solidity": 0.2
             }
            },
            "type": "bar"
           }
          ],
          "barpolar": [
           {
            "marker": {
             "line": {
              "color": "#E5ECF6",
              "width": 0.5
             },
             "pattern": {
              "fillmode": "overlay",
              "size": 10,
              "solidity": 0.2
             }
            },
            "type": "barpolar"
           }
          ],
          "carpet": [
           {
            "aaxis": {
             "endlinecolor": "#2a3f5f",
             "gridcolor": "white",
             "linecolor": "white",
             "minorgridcolor": "white",
             "startlinecolor": "#2a3f5f"
            },
            "baxis": {
             "endlinecolor": "#2a3f5f",
             "gridcolor": "white",
             "linecolor": "white",
             "minorgridcolor": "white",
             "startlinecolor": "#2a3f5f"
            },
            "type": "carpet"
           }
          ],
          "choropleth": [
           {
            "colorbar": {
             "outlinewidth": 0,
             "ticks": ""
            },
            "type": "choropleth"
           }
          ],
          "contour": [
           {
            "colorbar": {
             "outlinewidth": 0,
             "ticks": ""
            },
            "colorscale": [
             [
              0,
              "#0d0887"
             ],
             [
              0.1111111111111111,
              "#46039f"
             ],
             [
              0.2222222222222222,
              "#7201a8"
             ],
             [
              0.3333333333333333,
              "#9c179e"
             ],
             [
              0.4444444444444444,
              "#bd3786"
             ],
             [
              0.5555555555555556,
              "#d8576b"
             ],
             [
              0.6666666666666666,
              "#ed7953"
             ],
             [
              0.7777777777777778,
              "#fb9f3a"
             ],
             [
              0.8888888888888888,
              "#fdca26"
             ],
             [
              1,
              "#f0f921"
             ]
            ],
            "type": "contour"
           }
          ],
          "contourcarpet": [
           {
            "colorbar": {
             "outlinewidth": 0,
             "ticks": ""
            },
            "type": "contourcarpet"
           }
          ],
          "heatmap": [
           {
            "colorbar": {
             "outlinewidth": 0,
             "ticks": ""
            },
            "colorscale": [
             [
              0,
              "#0d0887"
             ],
             [
              0.1111111111111111,
              "#46039f"
             ],
             [
              0.2222222222222222,
              "#7201a8"
             ],
             [
              0.3333333333333333,
              "#9c179e"
             ],
             [
              0.4444444444444444,
              "#bd3786"
             ],
             [
              0.5555555555555556,
              "#d8576b"
             ],
             [
              0.6666666666666666,
              "#ed7953"
             ],
             [
              0.7777777777777778,
              "#fb9f3a"
             ],
             [
              0.8888888888888888,
              "#fdca26"
             ],
             [
              1,
              "#f0f921"
             ]
            ],
            "type": "heatmap"
           }
          ],
          "heatmapgl": [
           {
            "colorbar": {
             "outlinewidth": 0,
             "ticks": ""
            },
            "colorscale": [
             [
              0,
              "#0d0887"
             ],
             [
              0.1111111111111111,
              "#46039f"
             ],
             [
              0.2222222222222222,
              "#7201a8"
             ],
             [
              0.3333333333333333,
              "#9c179e"
             ],
             [
              0.4444444444444444,
              "#bd3786"
             ],
             [
              0.5555555555555556,
              "#d8576b"
             ],
             [
              0.6666666666666666,
              "#ed7953"
             ],
             [
              0.7777777777777778,
              "#fb9f3a"
             ],
             [
              0.8888888888888888,
              "#fdca26"
             ],
             [
              1,
              "#f0f921"
             ]
            ],
            "type": "heatmapgl"
           }
          ],
          "histogram": [
           {
            "marker": {
             "pattern": {
              "fillmode": "overlay",
              "size": 10,
              "solidity": 0.2
             }
            },
            "type": "histogram"
           }
          ],
          "histogram2d": [
           {
            "colorbar": {
             "outlinewidth": 0,
             "ticks": ""
            },
            "colorscale": [
             [
              0,
              "#0d0887"
             ],
             [
              0.1111111111111111,
              "#46039f"
             ],
             [
              0.2222222222222222,
              "#7201a8"
             ],
             [
              0.3333333333333333,
              "#9c179e"
             ],
             [
              0.4444444444444444,
              "#bd3786"
             ],
             [
              0.5555555555555556,
              "#d8576b"
             ],
             [
              0.6666666666666666,
              "#ed7953"
             ],
             [
              0.7777777777777778,
              "#fb9f3a"
             ],
             [
              0.8888888888888888,
              "#fdca26"
             ],
             [
              1,
              "#f0f921"
             ]
            ],
            "type": "histogram2d"
           }
          ],
          "histogram2dcontour": [
           {
            "colorbar": {
             "outlinewidth": 0,
             "ticks": ""
            },
            "colorscale": [
             [
              0,
              "#0d0887"
             ],
             [
              0.1111111111111111,
              "#46039f"
             ],
             [
              0.2222222222222222,
              "#7201a8"
             ],
             [
              0.3333333333333333,
              "#9c179e"
             ],
             [
              0.4444444444444444,
              "#bd3786"
             ],
             [
              0.5555555555555556,
              "#d8576b"
             ],
             [
              0.6666666666666666,
              "#ed7953"
             ],
             [
              0.7777777777777778,
              "#fb9f3a"
             ],
             [
              0.8888888888888888,
              "#fdca26"
             ],
             [
              1,
              "#f0f921"
             ]
            ],
            "type": "histogram2dcontour"
           }
          ],
          "mesh3d": [
           {
            "colorbar": {
             "outlinewidth": 0,
             "ticks": ""
            },
            "type": "mesh3d"
           }
          ],
          "parcoords": [
           {
            "line": {
             "colorbar": {
              "outlinewidth": 0,
              "ticks": ""
             }
            },
            "type": "parcoords"
           }
          ],
          "pie": [
           {
            "automargin": true,
            "type": "pie"
           }
          ],
          "scatter": [
           {
            "fillpattern": {
             "fillmode": "overlay",
             "size": 10,
             "solidity": 0.2
            },
            "type": "scatter"
           }
          ],
          "scatter3d": [
           {
            "line": {
             "colorbar": {
              "outlinewidth": 0,
              "ticks": ""
             }
            },
            "marker": {
             "colorbar": {
              "outlinewidth": 0,
              "ticks": ""
             }
            },
            "type": "scatter3d"
           }
          ],
          "scattercarpet": [
           {
            "marker": {
             "colorbar": {
              "outlinewidth": 0,
              "ticks": ""
             }
            },
            "type": "scattercarpet"
           }
          ],
          "scattergeo": [
           {
            "marker": {
             "colorbar": {
              "outlinewidth": 0,
              "ticks": ""
             }
            },
            "type": "scattergeo"
           }
          ],
          "scattergl": [
           {
            "marker": {
             "colorbar": {
              "outlinewidth": 0,
              "ticks": ""
             }
            },
            "type": "scattergl"
           }
          ],
          "scattermapbox": [
           {
            "marker": {
             "colorbar": {
              "outlinewidth": 0,
              "ticks": ""
             }
            },
            "type": "scattermapbox"
           }
          ],
          "scatterpolar": [
           {
            "marker": {
             "colorbar": {
              "outlinewidth": 0,
              "ticks": ""
             }
            },
            "type": "scatterpolar"
           }
          ],
          "scatterpolargl": [
           {
            "marker": {
             "colorbar": {
              "outlinewidth": 0,
              "ticks": ""
             }
            },
            "type": "scatterpolargl"
           }
          ],
          "scatterternary": [
           {
            "marker": {
             "colorbar": {
              "outlinewidth": 0,
              "ticks": ""
             }
            },
            "type": "scatterternary"
           }
          ],
          "surface": [
           {
            "colorbar": {
             "outlinewidth": 0,
             "ticks": ""
            },
            "colorscale": [
             [
              0,
              "#0d0887"
             ],
             [
              0.1111111111111111,
              "#46039f"
             ],
             [
              0.2222222222222222,
              "#7201a8"
             ],
             [
              0.3333333333333333,
              "#9c179e"
             ],
             [
              0.4444444444444444,
              "#bd3786"
             ],
             [
              0.5555555555555556,
              "#d8576b"
             ],
             [
              0.6666666666666666,
              "#ed7953"
             ],
             [
              0.7777777777777778,
              "#fb9f3a"
             ],
             [
              0.8888888888888888,
              "#fdca26"
             ],
             [
              1,
              "#f0f921"
             ]
            ],
            "type": "surface"
           }
          ],
          "table": [
           {
            "cells": {
             "fill": {
              "color": "#EBF0F8"
             },
             "line": {
              "color": "white"
             }
            },
            "header": {
             "fill": {
              "color": "#C8D4E3"
             },
             "line": {
              "color": "white"
             }
            },
            "type": "table"
           }
          ]
         },
         "layout": {
          "annotationdefaults": {
           "arrowcolor": "#2a3f5f",
           "arrowhead": 0,
           "arrowwidth": 1
          },
          "autotypenumbers": "strict",
          "coloraxis": {
           "colorbar": {
            "outlinewidth": 0,
            "ticks": ""
           }
          },
          "colorscale": {
           "diverging": [
            [
             0,
             "#8e0152"
            ],
            [
             0.1,
             "#c51b7d"
            ],
            [
             0.2,
             "#de77ae"
            ],
            [
             0.3,
             "#f1b6da"
            ],
            [
             0.4,
             "#fde0ef"
            ],
            [
             0.5,
             "#f7f7f7"
            ],
            [
             0.6,
             "#e6f5d0"
            ],
            [
             0.7,
             "#b8e186"
            ],
            [
             0.8,
             "#7fbc41"
            ],
            [
             0.9,
             "#4d9221"
            ],
            [
             1,
             "#276419"
            ]
           ],
           "sequential": [
            [
             0,
             "#0d0887"
            ],
            [
             0.1111111111111111,
             "#46039f"
            ],
            [
             0.2222222222222222,
             "#7201a8"
            ],
            [
             0.3333333333333333,
             "#9c179e"
            ],
            [
             0.4444444444444444,
             "#bd3786"
            ],
            [
             0.5555555555555556,
             "#d8576b"
            ],
            [
             0.6666666666666666,
             "#ed7953"
            ],
            [
             0.7777777777777778,
             "#fb9f3a"
            ],
            [
             0.8888888888888888,
             "#fdca26"
            ],
            [
             1,
             "#f0f921"
            ]
           ],
           "sequentialminus": [
            [
             0,
             "#0d0887"
            ],
            [
             0.1111111111111111,
             "#46039f"
            ],
            [
             0.2222222222222222,
             "#7201a8"
            ],
            [
             0.3333333333333333,
             "#9c179e"
            ],
            [
             0.4444444444444444,
             "#bd3786"
            ],
            [
             0.5555555555555556,
             "#d8576b"
            ],
            [
             0.6666666666666666,
             "#ed7953"
            ],
            [
             0.7777777777777778,
             "#fb9f3a"
            ],
            [
             0.8888888888888888,
             "#fdca26"
            ],
            [
             1,
             "#f0f921"
            ]
           ]
          },
          "colorway": [
           "#636efa",
           "#EF553B",
           "#00cc96",
           "#ab63fa",
           "#FFA15A",
           "#19d3f3",
           "#FF6692",
           "#B6E880",
           "#FF97FF",
           "#FECB52"
          ],
          "font": {
           "color": "#2a3f5f"
          },
          "geo": {
           "bgcolor": "white",
           "lakecolor": "white",
           "landcolor": "#E5ECF6",
           "showlakes": true,
           "showland": true,
           "subunitcolor": "white"
          },
          "hoverlabel": {
           "align": "left"
          },
          "hovermode": "closest",
          "mapbox": {
           "style": "light"
          },
          "paper_bgcolor": "white",
          "plot_bgcolor": "#E5ECF6",
          "polar": {
           "angularaxis": {
            "gridcolor": "white",
            "linecolor": "white",
            "ticks": ""
           },
           "bgcolor": "#E5ECF6",
           "radialaxis": {
            "gridcolor": "white",
            "linecolor": "white",
            "ticks": ""
           }
          },
          "scene": {
           "xaxis": {
            "backgroundcolor": "#E5ECF6",
            "gridcolor": "white",
            "gridwidth": 2,
            "linecolor": "white",
            "showbackground": true,
            "ticks": "",
            "zerolinecolor": "white"
           },
           "yaxis": {
            "backgroundcolor": "#E5ECF6",
            "gridcolor": "white",
            "gridwidth": 2,
            "linecolor": "white",
            "showbackground": true,
            "ticks": "",
            "zerolinecolor": "white"
           },
           "zaxis": {
            "backgroundcolor": "#E5ECF6",
            "gridcolor": "white",
            "gridwidth": 2,
            "linecolor": "white",
            "showbackground": true,
            "ticks": "",
            "zerolinecolor": "white"
           }
          },
          "shapedefaults": {
           "line": {
            "color": "#2a3f5f"
           }
          },
          "ternary": {
           "aaxis": {
            "gridcolor": "white",
            "linecolor": "white",
            "ticks": ""
           },
           "baxis": {
            "gridcolor": "white",
            "linecolor": "white",
            "ticks": ""
           },
           "bgcolor": "#E5ECF6",
           "caxis": {
            "gridcolor": "white",
            "linecolor": "white",
            "ticks": ""
           }
          },
          "title": {
           "x": 0.05
          },
          "xaxis": {
           "automargin": true,
           "gridcolor": "white",
           "linecolor": "white",
           "ticks": "",
           "title": {
            "standoff": 15
           },
           "zerolinecolor": "white",
           "zerolinewidth": 2
          },
          "yaxis": {
           "automargin": true,
           "gridcolor": "white",
           "linecolor": "white",
           "ticks": "",
           "title": {
            "standoff": 15
           },
           "zerolinecolor": "white",
           "zerolinewidth": 2
          }
         }
        },
        "title": {
         "text": "Abundances by Element and Shell Velocity"
        }
       }
      },
      "text/html": [
       "<div>                            <div id=\"c01862ce-1a10-4692-b08e-8783cb275cb8\" class=\"plotly-graph-div\" style=\"height:525px; width:100%;\"></div>            <script type=\"text/javascript\">                require([\"plotly\"], function(Plotly) {                    window.PLOTLYENV=window.PLOTLYENV || {};                                    if (document.getElementById(\"c01862ce-1a10-4692-b08e-8783cb275cb8\")) {                    Plotly.newPlot(                        \"c01862ce-1a10-4692-b08e-8783cb275cb8\",                        [{\"direction\":\"clockwise\",\"hole\":0.0,\"labels\":[\"O\",\"Mg\",\"Si\",\"S\",\"Ar\",\"Ca\"],\"marker\":{\"colors\":[[0.8941176470588236,0.10196078431372549,0.10980392156862745,1.0],[0.21568627450980393,0.49411764705882355,0.7215686274509804,1.0],[0.596078431372549,0.3058823529411765,0.6392156862745098,1.0],[1.0,1.0,0.2,1.0],[0.9686274509803922,0.5058823529411764,0.7490196078431373,1.0],[0.6,0.6,0.6,1.0]],\"line\":{\"color\":\"white\",\"width\":1}},\"name\":\"Shell 1\",\"rotation\":-90,\"sort\":false,\"textinfo\":\"label+value\",\"textposition\":\"inside\",\"values\":[0.19,0.03,0.52,0.19,0.04,0.03],\"type\":\"pie\"},{\"direction\":\"clockwise\",\"hole\":0.04000000000000001,\"labels\":[\"O\",\"Mg\",\"Si\",\"S\",\"Ar\",\"Ca\"],\"marker\":{\"colors\":[[0.8941176470588236,0.10196078431372549,0.10980392156862745,1.0],[0.21568627450980393,0.49411764705882355,0.7215686274509804,1.0],[0.596078431372549,0.3058823529411765,0.6392156862745098,1.0],[1.0,1.0,0.2,1.0],[0.9686274509803922,0.5058823529411764,0.7490196078431373,1.0],[0.6,0.6,0.6,1.0]],\"line\":{\"color\":\"white\",\"width\":1}},\"name\":\"Shell 2\",\"rotation\":-90,\"sort\":false,\"textinfo\":\"label+value\",\"textposition\":\"inside\",\"values\":[0.19,0.03,0.52,0.19,0.04,0.03],\"type\":\"pie\"},{\"direction\":\"clockwise\",\"hole\":0.08000000000000002,\"labels\":[\"O\",\"Mg\",\"Si\",\"S\",\"Ar\",\"Ca\"],\"marker\":{\"colors\":[[0.8941176470588236,0.10196078431372549,0.10980392156862745,1.0],[0.21568627450980393,0.49411764705882355,0.7215686274509804,1.0],[0.596078431372549,0.3058823529411765,0.6392156862745098,1.0],[1.0,1.0,0.2,1.0],[0.9686274509803922,0.5058823529411764,0.7490196078431373,1.0],[0.6,0.6,0.6,1.0]],\"line\":{\"color\":\"white\",\"width\":1}},\"name\":\"Shell 3\",\"rotation\":-90,\"sort\":false,\"textinfo\":\"label+value\",\"textposition\":\"inside\",\"values\":[0.19,0.03,0.52,0.19,0.04,0.03],\"type\":\"pie\"},{\"direction\":\"clockwise\",\"hole\":0.12,\"labels\":[\"O\",\"Mg\",\"Si\",\"S\",\"Ar\",\"Ca\"],\"marker\":{\"colors\":[[0.8941176470588236,0.10196078431372549,0.10980392156862745,1.0],[0.21568627450980393,0.49411764705882355,0.7215686274509804,1.0],[0.596078431372549,0.3058823529411765,0.6392156862745098,1.0],[1.0,1.0,0.2,1.0],[0.9686274509803922,0.5058823529411764,0.7490196078431373,1.0],[0.6,0.6,0.6,1.0]],\"line\":{\"color\":\"white\",\"width\":1}},\"name\":\"Shell 4\",\"rotation\":-90,\"sort\":false,\"textinfo\":\"label+value\",\"textposition\":\"inside\",\"values\":[0.19,0.03,0.52,0.19,0.04,0.03],\"type\":\"pie\"},{\"direction\":\"clockwise\",\"hole\":0.16000000000000003,\"labels\":[\"O\",\"Mg\",\"Si\",\"S\",\"Ar\",\"Ca\"],\"marker\":{\"colors\":[[0.8941176470588236,0.10196078431372549,0.10980392156862745,1.0],[0.21568627450980393,0.49411764705882355,0.7215686274509804,1.0],[0.596078431372549,0.3058823529411765,0.6392156862745098,1.0],[1.0,1.0,0.2,1.0],[0.9686274509803922,0.5058823529411764,0.7490196078431373,1.0],[0.6,0.6,0.6,1.0]],\"line\":{\"color\":\"white\",\"width\":1}},\"name\":\"Shell 5\",\"rotation\":-90,\"sort\":false,\"textinfo\":\"label+value\",\"textposition\":\"inside\",\"values\":[0.19,0.03,0.52,0.19,0.04,0.03],\"type\":\"pie\"},{\"direction\":\"clockwise\",\"hole\":0.2,\"labels\":[\"O\",\"Mg\",\"Si\",\"S\",\"Ar\",\"Ca\"],\"marker\":{\"colors\":[[0.8941176470588236,0.10196078431372549,0.10980392156862745,1.0],[0.21568627450980393,0.49411764705882355,0.7215686274509804,1.0],[0.596078431372549,0.3058823529411765,0.6392156862745098,1.0],[1.0,1.0,0.2,1.0],[0.9686274509803922,0.5058823529411764,0.7490196078431373,1.0],[0.6,0.6,0.6,1.0]],\"line\":{\"color\":\"white\",\"width\":1}},\"name\":\"Shell 6\",\"rotation\":-90,\"sort\":false,\"textinfo\":\"label+value\",\"textposition\":\"inside\",\"values\":[0.19,0.03,0.52,0.19,0.04,0.03],\"type\":\"pie\"},{\"direction\":\"clockwise\",\"hole\":0.24,\"labels\":[\"O\",\"Mg\",\"Si\",\"S\",\"Ar\",\"Ca\"],\"marker\":{\"colors\":[[0.8941176470588236,0.10196078431372549,0.10980392156862745,1.0],[0.21568627450980393,0.49411764705882355,0.7215686274509804,1.0],[0.596078431372549,0.3058823529411765,0.6392156862745098,1.0],[1.0,1.0,0.2,1.0],[0.9686274509803922,0.5058823529411764,0.7490196078431373,1.0],[0.6,0.6,0.6,1.0]],\"line\":{\"color\":\"white\",\"width\":1}},\"name\":\"Shell 7\",\"rotation\":-90,\"sort\":false,\"textinfo\":\"label+value\",\"textposition\":\"inside\",\"values\":[0.19,0.03,0.52,0.19,0.04,0.03],\"type\":\"pie\"},{\"direction\":\"clockwise\",\"hole\":0.27999999999999997,\"labels\":[\"O\",\"Mg\",\"Si\",\"S\",\"Ar\",\"Ca\"],\"marker\":{\"colors\":[[0.8941176470588236,0.10196078431372549,0.10980392156862745,1.0],[0.21568627450980393,0.49411764705882355,0.7215686274509804,1.0],[0.596078431372549,0.3058823529411765,0.6392156862745098,1.0],[1.0,1.0,0.2,1.0],[0.9686274509803922,0.5058823529411764,0.7490196078431373,1.0],[0.6,0.6,0.6,1.0]],\"line\":{\"color\":\"white\",\"width\":1}},\"name\":\"Shell 8\",\"rotation\":-90,\"sort\":false,\"textinfo\":\"label+value\",\"textposition\":\"inside\",\"values\":[0.19,0.03,0.52,0.19,0.04,0.03],\"type\":\"pie\"},{\"direction\":\"clockwise\",\"hole\":0.32000000000000006,\"labels\":[\"O\",\"Mg\",\"Si\",\"S\",\"Ar\",\"Ca\"],\"marker\":{\"colors\":[[0.8941176470588236,0.10196078431372549,0.10980392156862745,1.0],[0.21568627450980393,0.49411764705882355,0.7215686274509804,1.0],[0.596078431372549,0.3058823529411765,0.6392156862745098,1.0],[1.0,1.0,0.2,1.0],[0.9686274509803922,0.5058823529411764,0.7490196078431373,1.0],[0.6,0.6,0.6,1.0]],\"line\":{\"color\":\"white\",\"width\":1}},\"name\":\"Shell 9\",\"rotation\":-90,\"sort\":false,\"textinfo\":\"label+value\",\"textposition\":\"inside\",\"values\":[0.19,0.03,0.52,0.19,0.04,0.03],\"type\":\"pie\"},{\"direction\":\"clockwise\",\"hole\":0.36000000000000004,\"labels\":[\"O\",\"Mg\",\"Si\",\"S\",\"Ar\",\"Ca\"],\"marker\":{\"colors\":[[0.8941176470588236,0.10196078431372549,0.10980392156862745,1.0],[0.21568627450980393,0.49411764705882355,0.7215686274509804,1.0],[0.596078431372549,0.3058823529411765,0.6392156862745098,1.0],[1.0,1.0,0.2,1.0],[0.9686274509803922,0.5058823529411764,0.7490196078431373,1.0],[0.6,0.6,0.6,1.0]],\"line\":{\"color\":\"white\",\"width\":1}},\"name\":\"Shell 10\",\"rotation\":-90,\"sort\":false,\"textinfo\":\"label+value\",\"textposition\":\"inside\",\"values\":[0.19,0.03,0.52,0.19,0.04,0.03],\"type\":\"pie\"},{\"direction\":\"clockwise\",\"hole\":0.4,\"labels\":[\"O\",\"Mg\",\"Si\",\"S\",\"Ar\",\"Ca\"],\"marker\":{\"colors\":[[0.8941176470588236,0.10196078431372549,0.10980392156862745,1.0],[0.21568627450980393,0.49411764705882355,0.7215686274509804,1.0],[0.596078431372549,0.3058823529411765,0.6392156862745098,1.0],[1.0,1.0,0.2,1.0],[0.9686274509803922,0.5058823529411764,0.7490196078431373,1.0],[0.6,0.6,0.6,1.0]],\"line\":{\"color\":\"white\",\"width\":1}},\"name\":\"Shell 11\",\"rotation\":-90,\"sort\":false,\"textinfo\":\"label+value\",\"textposition\":\"inside\",\"values\":[0.19,0.03,0.52,0.19,0.04,0.03],\"type\":\"pie\"},{\"direction\":\"clockwise\",\"hole\":0.44000000000000006,\"labels\":[\"O\",\"Mg\",\"Si\",\"S\",\"Ar\",\"Ca\"],\"marker\":{\"colors\":[[0.8941176470588236,0.10196078431372549,0.10980392156862745,1.0],[0.21568627450980393,0.49411764705882355,0.7215686274509804,1.0],[0.596078431372549,0.3058823529411765,0.6392156862745098,1.0],[1.0,1.0,0.2,1.0],[0.9686274509803922,0.5058823529411764,0.7490196078431373,1.0],[0.6,0.6,0.6,1.0]],\"line\":{\"color\":\"white\",\"width\":1}},\"name\":\"Shell 12\",\"rotation\":-90,\"sort\":false,\"textinfo\":\"label+value\",\"textposition\":\"inside\",\"values\":[0.19,0.03,0.52,0.19,0.04,0.03],\"type\":\"pie\"},{\"direction\":\"clockwise\",\"hole\":0.48,\"labels\":[\"O\",\"Mg\",\"Si\",\"S\",\"Ar\",\"Ca\"],\"marker\":{\"colors\":[[0.8941176470588236,0.10196078431372549,0.10980392156862745,1.0],[0.21568627450980393,0.49411764705882355,0.7215686274509804,1.0],[0.596078431372549,0.3058823529411765,0.6392156862745098,1.0],[1.0,1.0,0.2,1.0],[0.9686274509803922,0.5058823529411764,0.7490196078431373,1.0],[0.6,0.6,0.6,1.0]],\"line\":{\"color\":\"white\",\"width\":1}},\"name\":\"Shell 13\",\"rotation\":-90,\"sort\":false,\"textinfo\":\"label+value\",\"textposition\":\"inside\",\"values\":[0.19,0.03,0.52,0.19,0.04,0.03],\"type\":\"pie\"},{\"direction\":\"clockwise\",\"hole\":0.52,\"labels\":[\"O\",\"Mg\",\"Si\",\"S\",\"Ar\",\"Ca\"],\"marker\":{\"colors\":[[0.8941176470588236,0.10196078431372549,0.10980392156862745,1.0],[0.21568627450980393,0.49411764705882355,0.7215686274509804,1.0],[0.596078431372549,0.3058823529411765,0.6392156862745098,1.0],[1.0,1.0,0.2,1.0],[0.9686274509803922,0.5058823529411764,0.7490196078431373,1.0],[0.6,0.6,0.6,1.0]],\"line\":{\"color\":\"white\",\"width\":1}},\"name\":\"Shell 14\",\"rotation\":-90,\"sort\":false,\"textinfo\":\"label+value\",\"textposition\":\"inside\",\"values\":[0.19,0.03,0.52,0.19,0.04,0.03],\"type\":\"pie\"},{\"direction\":\"clockwise\",\"hole\":0.5599999999999999,\"labels\":[\"O\",\"Mg\",\"Si\",\"S\",\"Ar\",\"Ca\"],\"marker\":{\"colors\":[[0.8941176470588236,0.10196078431372549,0.10980392156862745,1.0],[0.21568627450980393,0.49411764705882355,0.7215686274509804,1.0],[0.596078431372549,0.3058823529411765,0.6392156862745098,1.0],[1.0,1.0,0.2,1.0],[0.9686274509803922,0.5058823529411764,0.7490196078431373,1.0],[0.6,0.6,0.6,1.0]],\"line\":{\"color\":\"white\",\"width\":1}},\"name\":\"Shell 15\",\"rotation\":-90,\"sort\":false,\"textinfo\":\"label+value\",\"textposition\":\"inside\",\"values\":[0.19,0.03,0.52,0.19,0.04,0.03],\"type\":\"pie\"},{\"direction\":\"clockwise\",\"hole\":0.6000000000000001,\"labels\":[\"O\",\"Mg\",\"Si\",\"S\",\"Ar\",\"Ca\"],\"marker\":{\"colors\":[[0.8941176470588236,0.10196078431372549,0.10980392156862745,1.0],[0.21568627450980393,0.49411764705882355,0.7215686274509804,1.0],[0.596078431372549,0.3058823529411765,0.6392156862745098,1.0],[1.0,1.0,0.2,1.0],[0.9686274509803922,0.5058823529411764,0.7490196078431373,1.0],[0.6,0.6,0.6,1.0]],\"line\":{\"color\":\"white\",\"width\":1}},\"name\":\"Shell 16\",\"rotation\":-90,\"sort\":false,\"textinfo\":\"label+value\",\"textposition\":\"inside\",\"values\":[0.19,0.03,0.52,0.19,0.04,0.03],\"type\":\"pie\"},{\"direction\":\"clockwise\",\"hole\":0.6400000000000001,\"labels\":[\"O\",\"Mg\",\"Si\",\"S\",\"Ar\",\"Ca\"],\"marker\":{\"colors\":[[0.8941176470588236,0.10196078431372549,0.10980392156862745,1.0],[0.21568627450980393,0.49411764705882355,0.7215686274509804,1.0],[0.596078431372549,0.3058823529411765,0.6392156862745098,1.0],[1.0,1.0,0.2,1.0],[0.9686274509803922,0.5058823529411764,0.7490196078431373,1.0],[0.6,0.6,0.6,1.0]],\"line\":{\"color\":\"white\",\"width\":1}},\"name\":\"Shell 17\",\"rotation\":-90,\"sort\":false,\"textinfo\":\"label+value\",\"textposition\":\"inside\",\"values\":[0.19,0.03,0.52,0.19,0.04,0.03],\"type\":\"pie\"},{\"direction\":\"clockwise\",\"hole\":0.68,\"labels\":[\"O\",\"Mg\",\"Si\",\"S\",\"Ar\",\"Ca\"],\"marker\":{\"colors\":[[0.8941176470588236,0.10196078431372549,0.10980392156862745,1.0],[0.21568627450980393,0.49411764705882355,0.7215686274509804,1.0],[0.596078431372549,0.3058823529411765,0.6392156862745098,1.0],[1.0,1.0,0.2,1.0],[0.9686274509803922,0.5058823529411764,0.7490196078431373,1.0],[0.6,0.6,0.6,1.0]],\"line\":{\"color\":\"white\",\"width\":1}},\"name\":\"Shell 18\",\"rotation\":-90,\"sort\":false,\"textinfo\":\"label+value\",\"textposition\":\"inside\",\"values\":[0.19,0.03,0.52,0.19,0.04,0.03],\"type\":\"pie\"},{\"direction\":\"clockwise\",\"hole\":0.7200000000000001,\"labels\":[\"O\",\"Mg\",\"Si\",\"S\",\"Ar\",\"Ca\"],\"marker\":{\"colors\":[[0.8941176470588236,0.10196078431372549,0.10980392156862745,1.0],[0.21568627450980393,0.49411764705882355,0.7215686274509804,1.0],[0.596078431372549,0.3058823529411765,0.6392156862745098,1.0],[1.0,1.0,0.2,1.0],[0.9686274509803922,0.5058823529411764,0.7490196078431373,1.0],[0.6,0.6,0.6,1.0]],\"line\":{\"color\":\"white\",\"width\":1}},\"name\":\"Shell 19\",\"rotation\":-90,\"sort\":false,\"textinfo\":\"label+value\",\"textposition\":\"inside\",\"values\":[0.19,0.03,0.52,0.19,0.04,0.03],\"type\":\"pie\"},{\"direction\":\"clockwise\",\"hole\":0.76,\"labels\":[\"O\",\"Mg\",\"Si\",\"S\",\"Ar\",\"Ca\"],\"marker\":{\"colors\":[[0.8941176470588236,0.10196078431372549,0.10980392156862745,1.0],[0.21568627450980393,0.49411764705882355,0.7215686274509804,1.0],[0.596078431372549,0.3058823529411765,0.6392156862745098,1.0],[1.0,1.0,0.2,1.0],[0.9686274509803922,0.5058823529411764,0.7490196078431373,1.0],[0.6,0.6,0.6,1.0]],\"line\":{\"color\":\"white\",\"width\":1}},\"name\":\"Shell 20\",\"rotation\":-90,\"sort\":false,\"textinfo\":\"label+value\",\"textposition\":\"inside\",\"values\":[0.19,0.03,0.52,0.19,0.04,0.03],\"type\":\"pie\"}],                        {\"font\":{\"color\":\"#444\",\"family\":\"Arial, sans-serif\",\"size\":12},\"legend\":{\"font\":{\"family\":\"Arial, sans-serif\",\"size\":12},\"x\":1,\"y\":0.5},\"showlegend\":true,\"title\":{\"text\":\"Abundances by Element and Shell Velocity\"},\"template\":{\"data\":{\"histogram2dcontour\":[{\"type\":\"histogram2dcontour\",\"colorbar\":{\"outlinewidth\":0,\"ticks\":\"\"},\"colorscale\":[[0.0,\"#0d0887\"],[0.1111111111111111,\"#46039f\"],[0.2222222222222222,\"#7201a8\"],[0.3333333333333333,\"#9c179e\"],[0.4444444444444444,\"#bd3786\"],[0.5555555555555556,\"#d8576b\"],[0.6666666666666666,\"#ed7953\"],[0.7777777777777778,\"#fb9f3a\"],[0.8888888888888888,\"#fdca26\"],[1.0,\"#f0f921\"]]}],\"choropleth\":[{\"type\":\"choropleth\",\"colorbar\":{\"outlinewidth\":0,\"ticks\":\"\"}}],\"histogram2d\":[{\"type\":\"histogram2d\",\"colorbar\":{\"outlinewidth\":0,\"ticks\":\"\"},\"colorscale\":[[0.0,\"#0d0887\"],[0.1111111111111111,\"#46039f\"],[0.2222222222222222,\"#7201a8\"],[0.3333333333333333,\"#9c179e\"],[0.4444444444444444,\"#bd3786\"],[0.5555555555555556,\"#d8576b\"],[0.6666666666666666,\"#ed7953\"],[0.7777777777777778,\"#fb9f3a\"],[0.8888888888888888,\"#fdca26\"],[1.0,\"#f0f921\"]]}],\"heatmap\":[{\"type\":\"heatmap\",\"colorbar\":{\"outlinewidth\":0,\"ticks\":\"\"},\"colorscale\":[[0.0,\"#0d0887\"],[0.1111111111111111,\"#46039f\"],[0.2222222222222222,\"#7201a8\"],[0.3333333333333333,\"#9c179e\"],[0.4444444444444444,\"#bd3786\"],[0.5555555555555556,\"#d8576b\"],[0.6666666666666666,\"#ed7953\"],[0.7777777777777778,\"#fb9f3a\"],[0.8888888888888888,\"#fdca26\"],[1.0,\"#f0f921\"]]}],\"heatmapgl\":[{\"type\":\"heatmapgl\",\"colorbar\":{\"outlinewidth\":0,\"ticks\":\"\"},\"colorscale\":[[0.0,\"#0d0887\"],[0.1111111111111111,\"#46039f\"],[0.2222222222222222,\"#7201a8\"],[0.3333333333333333,\"#9c179e\"],[0.4444444444444444,\"#bd3786\"],[0.5555555555555556,\"#d8576b\"],[0.6666666666666666,\"#ed7953\"],[0.7777777777777778,\"#fb9f3a\"],[0.8888888888888888,\"#fdca26\"],[1.0,\"#f0f921\"]]}],\"contourcarpet\":[{\"type\":\"contourcarpet\",\"colorbar\":{\"outlinewidth\":0,\"ticks\":\"\"}}],\"contour\":[{\"type\":\"contour\",\"colorbar\":{\"outlinewidth\":0,\"ticks\":\"\"},\"colorscale\":[[0.0,\"#0d0887\"],[0.1111111111111111,\"#46039f\"],[0.2222222222222222,\"#7201a8\"],[0.3333333333333333,\"#9c179e\"],[0.4444444444444444,\"#bd3786\"],[0.5555555555555556,\"#d8576b\"],[0.6666666666666666,\"#ed7953\"],[0.7777777777777778,\"#fb9f3a\"],[0.8888888888888888,\"#fdca26\"],[1.0,\"#f0f921\"]]}],\"surface\":[{\"type\":\"surface\",\"colorbar\":{\"outlinewidth\":0,\"ticks\":\"\"},\"colorscale\":[[0.0,\"#0d0887\"],[0.1111111111111111,\"#46039f\"],[0.2222222222222222,\"#7201a8\"],[0.3333333333333333,\"#9c179e\"],[0.4444444444444444,\"#bd3786\"],[0.5555555555555556,\"#d8576b\"],[0.6666666666666666,\"#ed7953\"],[0.7777777777777778,\"#fb9f3a\"],[0.8888888888888888,\"#fdca26\"],[1.0,\"#f0f921\"]]}],\"mesh3d\":[{\"type\":\"mesh3d\",\"colorbar\":{\"outlinewidth\":0,\"ticks\":\"\"}}],\"scatter\":[{\"fillpattern\":{\"fillmode\":\"overlay\",\"size\":10,\"solidity\":0.2},\"type\":\"scatter\"}],\"parcoords\":[{\"type\":\"parcoords\",\"line\":{\"colorbar\":{\"outlinewidth\":0,\"ticks\":\"\"}}}],\"scatterpolargl\":[{\"type\":\"scatterpolargl\",\"marker\":{\"colorbar\":{\"outlinewidth\":0,\"ticks\":\"\"}}}],\"bar\":[{\"error_x\":{\"color\":\"#2a3f5f\"},\"error_y\":{\"color\":\"#2a3f5f\"},\"marker\":{\"line\":{\"color\":\"#E5ECF6\",\"width\":0.5},\"pattern\":{\"fillmode\":\"overlay\",\"size\":10,\"solidity\":0.2}},\"type\":\"bar\"}],\"scattergeo\":[{\"type\":\"scattergeo\",\"marker\":{\"colorbar\":{\"outlinewidth\":0,\"ticks\":\"\"}}}],\"scatterpolar\":[{\"type\":\"scatterpolar\",\"marker\":{\"colorbar\":{\"outlinewidth\":0,\"ticks\":\"\"}}}],\"histogram\":[{\"marker\":{\"pattern\":{\"fillmode\":\"overlay\",\"size\":10,\"solidity\":0.2}},\"type\":\"histogram\"}],\"scattergl\":[{\"type\":\"scattergl\",\"marker\":{\"colorbar\":{\"outlinewidth\":0,\"ticks\":\"\"}}}],\"scatter3d\":[{\"type\":\"scatter3d\",\"line\":{\"colorbar\":{\"outlinewidth\":0,\"ticks\":\"\"}},\"marker\":{\"colorbar\":{\"outlinewidth\":0,\"ticks\":\"\"}}}],\"scattermapbox\":[{\"type\":\"scattermapbox\",\"marker\":{\"colorbar\":{\"outlinewidth\":0,\"ticks\":\"\"}}}],\"scatterternary\":[{\"type\":\"scatterternary\",\"marker\":{\"colorbar\":{\"outlinewidth\":0,\"ticks\":\"\"}}}],\"scattercarpet\":[{\"type\":\"scattercarpet\",\"marker\":{\"colorbar\":{\"outlinewidth\":0,\"ticks\":\"\"}}}],\"carpet\":[{\"aaxis\":{\"endlinecolor\":\"#2a3f5f\",\"gridcolor\":\"white\",\"linecolor\":\"white\",\"minorgridcolor\":\"white\",\"startlinecolor\":\"#2a3f5f\"},\"baxis\":{\"endlinecolor\":\"#2a3f5f\",\"gridcolor\":\"white\",\"linecolor\":\"white\",\"minorgridcolor\":\"white\",\"startlinecolor\":\"#2a3f5f\"},\"type\":\"carpet\"}],\"table\":[{\"cells\":{\"fill\":{\"color\":\"#EBF0F8\"},\"line\":{\"color\":\"white\"}},\"header\":{\"fill\":{\"color\":\"#C8D4E3\"},\"line\":{\"color\":\"white\"}},\"type\":\"table\"}],\"barpolar\":[{\"marker\":{\"line\":{\"color\":\"#E5ECF6\",\"width\":0.5},\"pattern\":{\"fillmode\":\"overlay\",\"size\":10,\"solidity\":0.2}},\"type\":\"barpolar\"}],\"pie\":[{\"automargin\":true,\"type\":\"pie\"}]},\"layout\":{\"autotypenumbers\":\"strict\",\"colorway\":[\"#636efa\",\"#EF553B\",\"#00cc96\",\"#ab63fa\",\"#FFA15A\",\"#19d3f3\",\"#FF6692\",\"#B6E880\",\"#FF97FF\",\"#FECB52\"],\"font\":{\"color\":\"#2a3f5f\"},\"hovermode\":\"closest\",\"hoverlabel\":{\"align\":\"left\"},\"paper_bgcolor\":\"white\",\"plot_bgcolor\":\"#E5ECF6\",\"polar\":{\"bgcolor\":\"#E5ECF6\",\"angularaxis\":{\"gridcolor\":\"white\",\"linecolor\":\"white\",\"ticks\":\"\"},\"radialaxis\":{\"gridcolor\":\"white\",\"linecolor\":\"white\",\"ticks\":\"\"}},\"ternary\":{\"bgcolor\":\"#E5ECF6\",\"aaxis\":{\"gridcolor\":\"white\",\"linecolor\":\"white\",\"ticks\":\"\"},\"baxis\":{\"gridcolor\":\"white\",\"linecolor\":\"white\",\"ticks\":\"\"},\"caxis\":{\"gridcolor\":\"white\",\"linecolor\":\"white\",\"ticks\":\"\"}},\"coloraxis\":{\"colorbar\":{\"outlinewidth\":0,\"ticks\":\"\"}},\"colorscale\":{\"sequential\":[[0.0,\"#0d0887\"],[0.1111111111111111,\"#46039f\"],[0.2222222222222222,\"#7201a8\"],[0.3333333333333333,\"#9c179e\"],[0.4444444444444444,\"#bd3786\"],[0.5555555555555556,\"#d8576b\"],[0.6666666666666666,\"#ed7953\"],[0.7777777777777778,\"#fb9f3a\"],[0.8888888888888888,\"#fdca26\"],[1.0,\"#f0f921\"]],\"sequentialminus\":[[0.0,\"#0d0887\"],[0.1111111111111111,\"#46039f\"],[0.2222222222222222,\"#7201a8\"],[0.3333333333333333,\"#9c179e\"],[0.4444444444444444,\"#bd3786\"],[0.5555555555555556,\"#d8576b\"],[0.6666666666666666,\"#ed7953\"],[0.7777777777777778,\"#fb9f3a\"],[0.8888888888888888,\"#fdca26\"],[1.0,\"#f0f921\"]],\"diverging\":[[0,\"#8e0152\"],[0.1,\"#c51b7d\"],[0.2,\"#de77ae\"],[0.3,\"#f1b6da\"],[0.4,\"#fde0ef\"],[0.5,\"#f7f7f7\"],[0.6,\"#e6f5d0\"],[0.7,\"#b8e186\"],[0.8,\"#7fbc41\"],[0.9,\"#4d9221\"],[1,\"#276419\"]]},\"xaxis\":{\"gridcolor\":\"white\",\"linecolor\":\"white\",\"ticks\":\"\",\"title\":{\"standoff\":15},\"zerolinecolor\":\"white\",\"automargin\":true,\"zerolinewidth\":2},\"yaxis\":{\"gridcolor\":\"white\",\"linecolor\":\"white\",\"ticks\":\"\",\"title\":{\"standoff\":15},\"zerolinecolor\":\"white\",\"automargin\":true,\"zerolinewidth\":2},\"scene\":{\"xaxis\":{\"backgroundcolor\":\"#E5ECF6\",\"gridcolor\":\"white\",\"linecolor\":\"white\",\"showbackground\":true,\"ticks\":\"\",\"zerolinecolor\":\"white\",\"gridwidth\":2},\"yaxis\":{\"backgroundcolor\":\"#E5ECF6\",\"gridcolor\":\"white\",\"linecolor\":\"white\",\"showbackground\":true,\"ticks\":\"\",\"zerolinecolor\":\"white\",\"gridwidth\":2},\"zaxis\":{\"backgroundcolor\":\"#E5ECF6\",\"gridcolor\":\"white\",\"linecolor\":\"white\",\"showbackground\":true,\"ticks\":\"\",\"zerolinecolor\":\"white\",\"gridwidth\":2}},\"shapedefaults\":{\"line\":{\"color\":\"#2a3f5f\"}},\"annotationdefaults\":{\"arrowcolor\":\"#2a3f5f\",\"arrowhead\":0,\"arrowwidth\":1},\"geo\":{\"bgcolor\":\"white\",\"landcolor\":\"#E5ECF6\",\"subunitcolor\":\"white\",\"showland\":true,\"showlakes\":true,\"lakecolor\":\"white\"},\"title\":{\"x\":0.05},\"mapbox\":{\"style\":\"light\"}}}},                        {\"responsive\": true}                    ).then(function(){\n",
       "                            \n",
       "var gd = document.getElementById('c01862ce-1a10-4692-b08e-8783cb275cb8');\n",
       "var x = new MutationObserver(function (mutations, observer) {{\n",
       "        var display = window.getComputedStyle(gd).display;\n",
       "        if (!display || display === 'none') {{\n",
       "            console.log([gd, 'removed!']);\n",
       "            Plotly.purge(gd);\n",
       "            observer.disconnect();\n",
       "        }}\n",
       "}});\n",
       "\n",
       "// Listen for the removal of the full notebook cells\n",
       "var notebookContainer = gd.closest('#notebook-container');\n",
       "if (notebookContainer) {{\n",
       "    x.observe(notebookContainer, {childList: true});\n",
       "}}\n",
       "\n",
       "// Listen for the clearing of the current output cell\n",
       "var outputEl = gd.closest('.output');\n",
       "if (outputEl) {{\n",
       "    x.observe(outputEl, {childList: true});\n",
       "}}\n",
       "\n",
       "                        })                };                });            </script>        </div>"
      ]
     },
     "metadata": {},
     "output_type": "display_data"
    }
   ],
   "source": [
    "import plotly.graph_objects as go\n",
    "import plotly.io as pio\n",
    "import matplotlib as plt\n",
    "import numpy as np\n",
    "\n",
    "# Get atomic data and selected atoms from simulation object\n",
    "atom_data = sim.plasma.atomic_data.atom_data\n",
    "elements = sim.plasma.selected_atoms\n",
    "\n",
    "# Define shell velocities and number of shells based on simulation data\n",
    "num_shells = len(shell_velocities)\n",
    "\n",
    "# Define colors to use for each element, based on a colormap\n",
    "colors = plt.cm.Set1(np.linspace(0, 1, len(elements)))\n",
    "\n",
    "# Create a list of pie charts, one for each shell\n",
    "pie_charts = []\n",
    "for shell_idx, velocity in enumerate(shell_velocities):\n",
    "    shell_abundances = abundances[shell_idx]\n",
    "    pie_chart = go.Pie(\n",
    "        labels=atom_data.symbol.loc[elements],\n",
    "        values=shell_abundances,\n",
    "        hole=0.8*(shell_idx/num_shells),\n",
    "        marker=dict(colors=colors, line=dict(width=1, color='white')),\n",
    "        sort=False,\n",
    "        direction='clockwise',\n",
    "        rotation=-90,\n",
    "        textinfo='label+value',\n",
    "        textposition='inside',\n",
    "        name=f'Shell {shell_idx+1}'\n",
    "    )\n",
    "    pie_charts.append(pie_chart)\n",
    "\n",
    "# Define layout for the pie chart\n",
    "layout = go.Layout(\n",
    "    title='Abundances by Element and Shell Velocity',\n",
    "    showlegend=True,\n",
    "    legend=dict(\n",
    "        x=1,\n",
    "        y=0.5,\n",
    "        font=dict(\n",
    "            family='Arial, sans-serif',\n",
    "            size=12\n",
    "        )\n",
    "    ),\n",
    "    font=dict(\n",
    "        family='Arial, sans-serif',\n",
    "        size=12,\n",
    "        color='#444'\n",
    "    ),\n",
    ")\n",
    "\n",
    "# Create the figure\n",
    "fig = go.Figure(data=pie_charts, layout=layout)\n",
    "\n",
    "# Display the figure\n",
    "fig.show()\n",
    "\n",
    "# Save the plot as an image file\n",
    "pio.write_html(fig, 'abundances_plot.html')\n"
   ]
  },
  {
   "cell_type": "code",
   "execution_count": null,
   "metadata": {},
   "outputs": [],
   "source": []
  }
 ],
 "metadata": {
  "kernelspec": {
   "display_name": "base",
   "language": "python",
   "name": "python3"
  },
  "language_info": {
   "codemirror_mode": {
    "name": "ipython",
    "version": 3
   },
   "file_extension": ".py",
   "mimetype": "text/x-python",
   "name": "python",
   "nbconvert_exporter": "python",
   "pygments_lexer": "ipython3",
   "version": "3.8.16"
  },
  "orig_nbformat": 4
 },
 "nbformat": 4,
 "nbformat_minor": 2
}
